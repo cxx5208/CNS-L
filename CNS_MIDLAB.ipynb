{
  "cells": [
    {
      "cell_type": "markdown",
      "id": "77d5a55a",
      "metadata": {
        "id": "77d5a55a"
      },
      "source": [
        "## CAESAR CIPHER"
      ]
    },
    {
      "cell_type": "code",
      "execution_count": null,
      "id": "2e89d5e6",
      "metadata": {
        "id": "2e89d5e6",
        "outputId": "977db2b4-80ce-4df2-a5be-37a35db89aed"
      },
      "outputs": [
        {
          "name": "stdout",
          "output_type": "stream",
          "text": [
            "Enter the input textATTACKATONCE\n",
            "Enter shift value2\n",
            "Enter 1 for Encrypt , 2 for Decrypt1\n",
            "CVVCEMCVQPEG\n"
          ]
        }
      ],
      "source": [
        "def caesar(string,n,flag):\n",
        "    res=\"\"\n",
        "    for i in range(len(string)):\n",
        "        if(flag):\n",
        "            res+= chr(((ord(string[i])+n-65)%26)+65)\n",
        "        else:\n",
        "            res+= chr(((ord(string[i])-n-65)%26)+65)\n",
        "    print(res)\n",
        "if __name__==\"__main__\":\n",
        "    text = input(\"Enter the input text\")\n",
        "    shift = int(input(\"Enter shift value\"))\n",
        "    flag = int(input(\"Enter 1 for Encrypt , 2 for Decrypt\"))\n",
        "    if flag==1:\n",
        "        caesar(text,shift,True)\n",
        "    else:\n",
        "        caesar(text,shift,False)"
      ]
    },
    {
      "cell_type": "code",
      "execution_count": null,
      "id": "33f2b85b",
      "metadata": {
        "id": "33f2b85b"
      },
      "outputs": [],
      "source": []
    },
    {
      "cell_type": "markdown",
      "id": "804e1df0",
      "metadata": {
        "id": "804e1df0"
      },
      "source": [
        "## Vigenere Cipher"
      ]
    },
    {
      "cell_type": "code",
      "execution_count": null,
      "id": "de7dcf5f",
      "metadata": {
        "id": "de7dcf5f",
        "outputId": "e0d3e604-a7ea-48d1-b437-d5b286678b94"
      },
      "outputs": [
        {
          "name": "stdout",
          "output_type": "stream",
          "text": [
            "Ciphertext : GCYCZFMLYLEIM\n",
            "Original/Decrypted Text : GEEKSFORGEEKS\n"
          ]
        }
      ],
      "source": [
        "def generateKey(string, key):\n",
        "    key = list(key)\n",
        "    if len(string) == len(key):\n",
        "        return(key)\n",
        "    else:\n",
        "        for i in range(len(string) -\n",
        "                       len(key)):\n",
        "            key.append(key[i % len(key)])\n",
        "    return(\"\" . join(key))\n",
        "\n",
        "\n",
        "def cipherText(string, key):\n",
        "    cipher_text = []\n",
        "    for i in range(len(string)):\n",
        "        x = (ord(string[i]) +\n",
        "             ord(key[i])) % 26\n",
        "        x += ord('A')\n",
        "        cipher_text.append(chr(x))\n",
        "    return(\"\" . join(cipher_text))\n",
        "\n",
        "def originalText(cipher_text, key):\n",
        "    orig_text = []\n",
        "    for i in range(len(cipher_text)):\n",
        "        x = (ord(cipher_text[i]) -\n",
        "             ord(key[i]) + 26) % 26\n",
        "        x += ord('A')\n",
        "        orig_text.append(chr(x))\n",
        "    return(\"\" . join(orig_text))\n",
        "\n",
        "if __name__ == \"__main__\":\n",
        "    string = \"GEEKSFORGEEKS\"\n",
        "    keyword = \"AYUSH\"\n",
        "    key = generateKey(string, keyword)\n",
        "    cipher_text = cipherText(string,key)\n",
        "    print(\"Ciphertext :\", cipher_text)\n",
        "    print(\"Original/Decrypted Text :\",\n",
        "           originalText(cipher_text, key))"
      ]
    },
    {
      "cell_type": "code",
      "execution_count": null,
      "id": "ee8c4500",
      "metadata": {
        "id": "ee8c4500"
      },
      "outputs": [],
      "source": []
    },
    {
      "cell_type": "markdown",
      "id": "eaff560e",
      "metadata": {
        "id": "eaff560e"
      },
      "source": [
        "## Playfair Cipher"
      ]
    },
    {
      "cell_type": "code",
      "execution_count": null,
      "id": "19c640cd",
      "metadata": {
        "id": "19c640cd",
        "outputId": "8796c523-57e6-41ad-cf54-31610d4e866a"
      },
      "outputs": [
        {
          "name": "stdout",
          "output_type": "stream",
          "text": [
            "Enter keyinstruments\n"
          ]
        }
      ],
      "source": [
        "key=input(\"Enter key\")\n",
        "key=key.replace(\" \", \"\")\n",
        "key=key.upper()"
      ]
    },
    {
      "cell_type": "code",
      "execution_count": null,
      "id": "f3bd4097",
      "metadata": {
        "id": "f3bd4097"
      },
      "outputs": [],
      "source": [
        "def matrix(x,y,initial):\n",
        "    return [[initial for i in range(x)] for j in range(y)]"
      ]
    },
    {
      "cell_type": "code",
      "execution_count": null,
      "id": "523ccb1d",
      "metadata": {
        "id": "523ccb1d"
      },
      "outputs": [],
      "source": [
        "result=list()\n",
        "for c in key:\n",
        "    if c not in result:\n",
        "        if c=='J':\n",
        "            result.append('I')\n",
        "        else:\n",
        "            result.append(c)"
      ]
    },
    {
      "cell_type": "code",
      "execution_count": null,
      "id": "5a6c847e",
      "metadata": {
        "id": "5a6c847e"
      },
      "outputs": [],
      "source": [
        "flag=0\n",
        "for i in range(65,91):\n",
        "    if chr(i) not in result:\n",
        "        if i==73 and chr(74) not in result:\n",
        "            result.append(\"I\")\n",
        "            flag=1\n",
        "        elif flag==0 and i==73 or i==74:\n",
        "            pass\n",
        "        else:\n",
        "            result.append(chr(i))"
      ]
    },
    {
      "cell_type": "code",
      "execution_count": null,
      "id": "9eed8c24",
      "metadata": {
        "id": "9eed8c24"
      },
      "outputs": [],
      "source": [
        "k=0\n",
        "my_matrix=matrix(5,5,0)\n",
        "for i in range(0,5):\n",
        "    for j in range(0,5):\n",
        "        my_matrix[i][j]=result[k]\n",
        "        k+=1"
      ]
    },
    {
      "cell_type": "code",
      "execution_count": null,
      "id": "0fd3714d",
      "metadata": {
        "id": "0fd3714d"
      },
      "outputs": [],
      "source": [
        "def locindex(c):\n",
        "    loc=list()\n",
        "    if c=='J':\n",
        "        c='I'\n",
        "    for i ,j in enumerate(my_matrix):\n",
        "        for k,l in enumerate(j):\n",
        "            if c==l:\n",
        "                loc.append(i)\n",
        "                loc.append(k)\n",
        "                return loc"
      ]
    },
    {
      "cell_type": "code",
      "execution_count": null,
      "id": "8cf8c2cc",
      "metadata": {
        "id": "8cf8c2cc"
      },
      "outputs": [],
      "source": [
        "def encrypt():\n",
        "    msg=str(input(\"ENTER MSG:\"))\n",
        "    msg=msg.upper()\n",
        "    msg=msg.replace(\" \", \"\")\n",
        "    i=0\n",
        "    for s in range(0,len(msg)+1,2):\n",
        "        if s<len(msg)-1:\n",
        "            if msg[s]==msg[s+1]:\n",
        "                msg=msg[:s+1]+'X'+msg[s+1:]\n",
        "    if len(msg)%2!=0:\n",
        "        msg=msg[:]+'X'\n",
        "    print(msg)\n",
        "    print(\"CIPHER TEXT:\",end=' ')\n",
        "    while i<len(msg):\n",
        "        loc=list()\n",
        "        loc=locindex(msg[i])\n",
        "        loc1=list()\n",
        "        loc1=locindex(msg[i+1])\n",
        "        if loc[1]==loc1[1]:\n",
        "            print(\"{}{}\".format(my_matrix[(loc[0]+1)%5][loc[1]],my_matrix[(loc1[0]+1)%5][loc1[1]]),end=' ')\n",
        "        elif loc[0]==loc1[0]:\n",
        "            print(\"{}{}\".format(my_matrix[loc[0]][(loc[1]+1)%5],my_matrix[loc1[0]][(loc1[1]+1)%5]),end=' ')\n",
        "        else:\n",
        "            print(\"{}{}\".format(my_matrix[loc[0]][loc1[1]],my_matrix[loc1[0]][loc[1]]),end=' ')\n",
        "        i=i+2"
      ]
    },
    {
      "cell_type": "code",
      "execution_count": null,
      "id": "10e81ac1",
      "metadata": {
        "id": "10e81ac1"
      },
      "outputs": [],
      "source": [
        "def decrypt():\n",
        "    msg=str(input(\"ENTER CIPHER TEXT:\"))\n",
        "    msg=msg.upper()\n",
        "    msg=msg.replace(\" \", \"\")\n",
        "    print(\"PLAIN TEXT:\",end=' ')\n",
        "    i=0\n",
        "    while i<len(msg):\n",
        "        loc=list()\n",
        "        loc=locindex(msg[i])\n",
        "        loc1=list()\n",
        "        loc1=locindex(msg[i+1])\n",
        "        if loc[1]==loc1[1]:\n",
        "            print(\"{}{}\".format(my_matrix[(loc[0]-1)%5][loc[1]],my_matrix[(loc1[0]-1)%5][loc1[1]]),end=' ')\n",
        "        elif loc[0]==loc1[0]:\n",
        "            print(\"{}{}\".format(my_matrix[loc[0]][(loc[1]-1)%5],my_matrix[loc1[0]][(loc1[1]-1)%5]),end=' ')\n",
        "        else:\n",
        "            print(\"{}{}\".format(my_matrix[loc[0]][loc1[1]],my_matrix[loc1[0]][loc[1]]),end=' ')\n",
        "        i=i+2\n"
      ]
    },
    {
      "cell_type": "code",
      "execution_count": null,
      "id": "bed65ba0",
      "metadata": {
        "id": "bed65ba0",
        "outputId": "45874cdd-20a3-417a-dd89-15468e6ee1cc"
      },
      "outputs": [
        {
          "name": "stdout",
          "output_type": "stream",
          "text": [
            "\n",
            " 1.Encryption \n",
            " 2.Decryption: \n",
            " 3.EXIT1\n",
            "ENTER MSG:prasad\n",
            "PRASAD\n",
            "CIPHER TEXT: QT ET MG \n",
            " 1.Encryption \n",
            " 2.Decryption: \n",
            " 3.EXIT1\n",
            "ENTER MSG:pprraa\n",
            "PXPRRAAX\n",
            "CIPHER TEXT: OY QT TB EY \n",
            " 1.Encryption \n",
            " 2.Decryption: \n",
            " 3.EXIT3\n"
          ]
        }
      ],
      "source": [
        "while(1):\n",
        "    choice=int(input(\"\\n 1.Encryption \\n 2.Decryption: \\n 3.EXIT\"))\n",
        "    if choice==1:\n",
        "        encrypt()\n",
        "    elif choice==2:\n",
        "        decrypt()\n",
        "    elif choice==3:\n",
        "        break\n",
        "    else:\n",
        "        print(\"Choose correct choice\")"
      ]
    },
    {
      "cell_type": "code",
      "execution_count": null,
      "id": "80029ee3",
      "metadata": {
        "id": "80029ee3"
      },
      "outputs": [],
      "source": []
    },
    {
      "cell_type": "markdown",
      "id": "3c0ce78c",
      "metadata": {
        "id": "3c0ce78c"
      },
      "source": [
        "## Affine Cipher"
      ]
    },
    {
      "cell_type": "code",
      "execution_count": null,
      "id": "a1e1bd9e",
      "metadata": {
        "id": "a1e1bd9e",
        "outputId": "9d0fef35-de59-4d57-8d89-4cd38ea8fed3"
      },
      "outputs": [
        {
          "name": "stdout",
          "output_type": "stream",
          "text": [
            "Encrypted Text: PXUOUT\n",
            "Decrypted Text: PRASAD\n"
          ]
        }
      ],
      "source": [
        "def egcd(a, b):\n",
        "    x,y, u,v = 0,1, 1,0\n",
        "    while a != 0:\n",
        "        q, r = b//a, b%a\n",
        "        m, n = x-u*q, y-v*q\n",
        "        b,a, x,y, u,v = a,r, u,v, m,n\n",
        "    gcd = b\n",
        "    return gcd, x, y\n",
        "\n",
        "def modinv(a, m):\n",
        "    gcd, x, y = egcd(a, m)\n",
        "    if gcd != 1:\n",
        "        return None\n",
        "    else:\n",
        "        return x % m\n",
        "\n",
        "def affine_encrypt(text, key):\n",
        "    '''\n",
        "    C = (a*P + b) % 26\n",
        "    '''\n",
        "    return ''.join([ chr((( key[0]*(ord(t) - ord('A')) + key[1] ) % 26)\n",
        "                  + ord('A')) for t in text.upper().replace(' ', '') ])\n",
        "\n",
        "\n",
        "def affine_decrypt(cipher, key):\n",
        "    '''\n",
        "    P = (a^-1 * (C - b)) % 26\n",
        "    '''\n",
        "    return ''.join([ chr((( modinv(key[0], 26)*(ord(c) - ord('A') - key[1]))\n",
        "                    % 26) + ord('A')) for c in cipher ])\n",
        "\n",
        "def main():\n",
        "    text = 'prasad'\n",
        "    key = [17, 20]\n",
        "\n",
        "    affine_encrypted_text = affine_encrypt(text, key)\n",
        "\n",
        "    print('Encrypted Text: {}'.format( affine_encrypted_text ))\n",
        "\n",
        "    print('Decrypted Text: {}'.format\n",
        "    ( affine_decrypt(affine_encrypted_text, key) ))\n",
        "\n",
        "\n",
        "if __name__ == '__main__':\n",
        "    main()"
      ]
    },
    {
      "cell_type": "code",
      "execution_count": null,
      "id": "68800d68",
      "metadata": {
        "id": "68800d68"
      },
      "outputs": [],
      "source": []
    },
    {
      "cell_type": "markdown",
      "id": "08ff52b2",
      "metadata": {
        "id": "08ff52b2"
      },
      "source": [
        "## Brute-Force and Know Plain Attacks on Affine Cipher"
      ]
    },
    {
      "cell_type": "code",
      "execution_count": null,
      "id": "836cc1c0",
      "metadata": {
        "id": "836cc1c0",
        "outputId": "906d0dce-bf3d-4542-98fe-2581394eb750"
      },
      "outputs": [
        {
          "name": "stdout",
          "output_type": "stream",
          "text": [
            "NOTE:- Keys should be Relative prime i.e. gcd(a,b) = 1.\n",
            "Enter key values a and b for key(a,b) :5 11\n",
            "Enter plain text (only letters): prasad\n"
          ]
        }
      ],
      "source": [
        "alphabets = \"abcdefghijklmnopqrstuvwxyz\"\n",
        "alpha_order = dict()\n",
        "inv_alpha = dict()\n",
        "for i,ch in enumerate(alphabets):\n",
        "    alpha_order[ch] = i\n",
        "    inv_alpha[i] = ch\n",
        "\n",
        "#input for key(a,b) and Plain text\n",
        "print(\"NOTE:- Keys should be Relative prime i.e. gcd(a,b) = 1.\")\n",
        "key = list(map(int, input(\"Enter key values a and b for key(a,b) :\").split()))\n",
        "plain_text = input(\"Enter plain text (only letters): \").lower().replace(\" \", \"\")"
      ]
    },
    {
      "cell_type": "code",
      "execution_count": null,
      "id": "baaf3356",
      "metadata": {
        "id": "baaf3356",
        "outputId": "ce44d1ce-247e-4160-9892-fc55315a444e"
      },
      "outputs": [
        {
          "name": "stdout",
          "output_type": "stream",
          "text": [
            "Plain text is  : prasad\n",
            "Cipher text is : islxla\n"
          ]
        }
      ],
      "source": [
        "encrypted = dict()\n",
        "for char in set(plain_text):\n",
        "    encrypted[char] = ''\n",
        "\n",
        "a,b = key[0], key[1]\n",
        "for ch in encrypted.keys():\n",
        "    val = ( a * alpha_order[ch] + b )  % 26    # Ci = ( a * Pi + b ) mod 26\n",
        "    encrypted[ch] = inv_alpha[val]\n",
        "\n",
        "cipher_text=''\n",
        "for ch in plain_text:\n",
        "    if ch not in encrypted:\n",
        "        cipher_text += ch\n",
        "    else:\n",
        "        cipher_text += encrypted[ch]\n",
        "\n",
        "print(\"Plain text is  :\", plain_text)\n",
        "print(\"Cipher text is :\", cipher_text)"
      ]
    },
    {
      "cell_type": "code",
      "execution_count": null,
      "id": "3f7841a5",
      "metadata": {
        "id": "3f7841a5",
        "outputId": "3673e117-20f8-4cd3-dfd1-0cb42b4e46d8"
      },
      "outputs": [
        {
          "name": "stdout",
          "output_type": "stream",
          "text": [
            "Cipher text is: islxla\n",
            "Hacked Keys might be:(See at the end,found key)\n",
            "key(1,0) ::  islxla \n",
            "key(1,1) ::  hrkwkz \n",
            "key(1,2) ::  gqjvjy \n",
            "key(1,3) ::  fpiuix \n",
            "key(1,4) ::  eohthw \n",
            "key(1,5) ::  dngsgv \n",
            "key(1,6) ::  cmfrfu \n",
            "key(1,7) ::  bleqet \n",
            "key(1,8) ::  akdpds \n",
            "key(1,9) ::  zjcocr \n",
            "key(1,10) ::  yibnbq \n",
            "key(1,11) ::  xhamap \n",
            "key(1,12) ::  wgzlzo \n",
            "key(1,13) ::  vfykyn \n",
            "key(1,14) ::  uexjxm \n",
            "key(1,15) ::  tdwiwl \n",
            "key(1,16) ::  scvhvk \n",
            "key(1,17) ::  rbuguj \n",
            "key(1,18) ::  qatfti \n",
            "key(1,19) ::  pzsesh \n",
            "key(1,20) ::  oyrdrg \n",
            "key(1,21) ::  nxqcqf \n",
            "key(1,22) ::  mwpbpe \n",
            "key(1,23) ::  lvoaod \n",
            "key(1,24) ::  kunznc \n",
            "key(1,25) ::  jtmymb \n",
            "key(2,1) ::  hrkwkz \n",
            "key(2,3) ::  fpiuix \n",
            "key(2,5) ::  dngsgv \n",
            "key(2,7) ::  bleqet \n",
            "key(2,9) ::  zjcocr \n",
            "key(2,11) ::  xhamap \n",
            "key(2,13) ::  vfykyn \n",
            "key(2,15) ::  tdwiwl \n",
            "key(2,17) ::  rbuguj \n",
            "key(2,19) ::  pzsesh \n",
            "key(2,21) ::  nxqcqf \n",
            "key(2,23) ::  lvoaod \n",
            "key(2,25) ::  jtmymb \n",
            "key(3,1) ::  lxmqmr \n",
            "key(3,2) ::  codhdi \n",
            "key(3,4) ::  kwlplq \n",
            "key(3,5) ::  bncgch \n",
            "key(3,7) ::  jvkokp \n",
            "key(3,8) ::  ambfbg \n",
            "key(3,10) ::  iujnjo \n",
            "key(3,11) ::  zlaeaf \n",
            "key(3,13) ::  htimin \n",
            "key(3,14) ::  ykzdze \n",
            "key(3,16) ::  gshlhm \n",
            "key(3,17) ::  xjycyd \n",
            "key(3,19) ::  frgkgl \n",
            "key(3,20) ::  wixbxc \n",
            "key(3,22) ::  eqfjfk \n",
            "key(3,23) ::  vhwawb \n",
            "key(3,25) ::  dpeiej \n",
            "key(4,1) ::  hrkwkz \n",
            "key(4,3) ::  fpiuix \n",
            "key(4,5) ::  dngsgv \n",
            "key(4,7) ::  bleqet \n",
            "key(4,9) ::  zjcocr \n",
            "key(4,11) ::  xhamap \n",
            "key(4,13) ::  vfykyn \n",
            "key(4,15) ::  tdwiwl \n",
            "key(4,17) ::  rbuguj \n",
            "key(4,19) ::  pzsesh \n",
            "key(4,21) ::  nxqcqf \n",
            "key(4,23) ::  lvoaod \n",
            "key(4,25) ::  jtmymb \n",
            "key(5,1) ::  rtcucf \n",
            "key(5,2) ::  wyhzhk \n",
            "key(5,3) ::  bdmemp \n",
            "key(5,4) ::  girjru \n",
            "key(5,6) ::  qsbtbe \n",
            "key(5,7) ::  vxgygj \n",
            "key(5,8) ::  acldlo \n",
            "key(5,9) ::  fhqiqt \n",
            "key(5,11) ::  prasad \n",
            "key(5,12) ::  uwfxfi \n",
            "key(5,13) ::  zbkckn \n",
            "key(5,14) ::  egphps \n",
            "key(5,16) ::  oqzrzc \n",
            "key(5,17) ::  tveweh \n",
            "key(5,18) ::  yajbjm \n",
            "key(5,19) ::  dfogor \n",
            "key(5,21) ::  npyqyb \n",
            "key(5,22) ::  sudvdg \n",
            "key(5,23) ::  xziail \n",
            "key(5,24) ::  cenfnq \n",
            "key(6,1) ::  hrkwkz \n",
            "key(6,5) ::  dngsgv \n",
            "key(6,7) ::  bleqet \n",
            "key(6,11) ::  xhamap \n",
            "key(6,13) ::  vfykyn \n",
            "key(6,17) ::  rbuguj \n",
            "key(6,19) ::  pzsesh \n",
            "key(6,23) ::  lvoaod \n",
            "key(6,25) ::  jtmymb \n",
            "key(7,1) ::  bvusul \n",
            "key(7,2) ::  mgfdfw \n",
            "key(7,3) ::  xrqoqh \n",
            "key(7,4) ::  icbzbs \n",
            "key(7,5) ::  tnmkmd \n",
            "key(7,6) ::  eyxvxo \n",
            "key(7,8) ::  autrtk \n",
            "key(7,9) ::  lfecev \n",
            "key(7,10) ::  wqpnpg \n",
            "key(7,11) ::  hbayar \n",
            "key(7,12) ::  smljlc \n",
            "key(7,13) ::  dxwuwn \n",
            "key(7,15) ::  ztsqsj \n",
            "key(7,16) ::  kedbdu \n",
            "key(7,17) ::  vpomof \n",
            "key(7,18) ::  gazxzq \n",
            "key(7,19) ::  rlkikb \n",
            "key(7,20) ::  cwvtvm \n",
            "key(7,22) ::  ysrpri \n",
            "key(7,23) ::  jdcact \n",
            "key(7,24) ::  uonlne \n",
            "key(7,25) ::  fzywyp \n",
            "key(8,1) ::  hrkwkz \n",
            "key(8,3) ::  fpiuix \n",
            "key(8,5) ::  dngsgv \n",
            "key(8,7) ::  bleqet \n",
            "key(8,9) ::  zjcocr \n",
            "key(8,11) ::  xhamap \n",
            "key(8,13) ::  vfykyn \n",
            "key(8,15) ::  tdwiwl \n",
            "key(8,17) ::  rbuguj \n",
            "key(8,19) ::  pzsesh \n",
            "key(8,21) ::  nxqcqf \n",
            "key(8,23) ::  lvoaod \n",
            "key(8,25) ::  jtmymb \n",
            "key(9,1) ::  vzeoex \n",
            "key(9,2) ::  swblbu \n",
            "key(9,4) ::  mqvfvo \n",
            "key(9,5) ::  jnscsl \n",
            "key(9,7) ::  dhmwmf \n",
            "key(9,8) ::  aejtjc \n",
            "key(9,10) ::  uydndw \n",
            "key(9,11) ::  rvakat \n",
            "key(9,13) ::  lpueun \n",
            "key(9,14) ::  imrbrk \n",
            "key(9,16) ::  cglvle \n",
            "key(9,17) ::  zdisib \n",
            "key(9,19) ::  txcmcv \n",
            "key(9,20) ::  quzjzs \n",
            "key(9,22) ::  kotdtm \n",
            "key(9,23) ::  hlqaqj \n",
            "key(9,25) ::  bfkukd \n",
            "key(10,1) ::  hrkwkz \n",
            "key(10,3) ::  fpiuix \n",
            "key(10,7) ::  bleqet \n",
            "key(10,9) ::  zjcocr \n",
            "key(10,11) ::  xhamap \n",
            "key(10,13) ::  vfykyn \n",
            "key(10,17) ::  rbuguj \n",
            "key(10,19) ::  pzsesh \n",
            "key(10,21) ::  nxqcqf \n",
            "key(10,23) ::  lvoaod \n",
            "key(11,1) ::  dlicih \n",
            "key(11,2) ::  kspjpo \n",
            "key(11,3) ::  rzwqwv \n",
            "key(11,4) ::  ygdxdc \n",
            "key(11,5) ::  fnkekj \n",
            "key(11,6) ::  murlrq \n",
            "key(11,7) ::  tbysyx \n",
            "key(11,8) ::  aifzfe \n",
            "key(11,9) ::  hpmgml \n",
            "key(11,10) ::  owtnts \n",
            "key(11,12) ::  ckhbhg \n",
            "key(11,13) ::  jroion \n",
            "key(11,14) ::  qyvpvu \n",
            "key(11,15) ::  xfcwcb \n",
            "key(11,16) ::  emjdji \n",
            "key(11,17) ::  ltqkqp \n",
            "key(11,18) ::  saxrxw \n",
            "key(11,19) ::  zheyed \n",
            "key(11,20) ::  golflk \n",
            "key(11,21) ::  nvsmsr \n",
            "key(11,23) ::  bjgagf \n",
            "key(11,24) ::  iqnhnm \n",
            "key(11,25) ::  pxuout \n",
            "key(12,1) ::  hrkwkz \n",
            "key(12,5) ::  dngsgv \n",
            "key(12,7) ::  bleqet \n",
            "key(12,11) ::  xhamap \n",
            "key(12,13) ::  vfykyn \n",
            "key(12,17) ::  rbuguj \n",
            "key(12,19) ::  pzsesh \n",
            "key(12,23) ::  lvoaod \n",
            "key(12,25) ::  jtmymb \n",
            "key(13,1) ::  hrkwkz \n",
            "key(13,2) ::  gqjvjy \n",
            "key(13,3) ::  fpiuix \n",
            "key(13,4) ::  eohthw \n",
            "key(13,5) ::  dngsgv \n",
            "key(13,6) ::  cmfrfu \n",
            "key(13,7) ::  bleqet \n",
            "key(13,8) ::  akdpds \n",
            "key(13,9) ::  zjcocr \n",
            "key(13,10) ::  yibnbq \n",
            "key(13,11) ::  xhamap \n",
            "key(13,12) ::  wgzlzo \n",
            "key(13,14) ::  uexjxm \n",
            "key(13,15) ::  tdwiwl \n",
            "key(13,16) ::  scvhvk \n",
            "key(13,17) ::  rbuguj \n",
            "key(13,18) ::  qatfti \n",
            "key(13,19) ::  pzsesh \n",
            "key(13,20) ::  oyrdrg \n",
            "key(13,21) ::  nxqcqf \n",
            "key(13,22) ::  mwpbpe \n",
            "key(13,23) ::  lvoaod \n",
            "key(13,24) ::  kunznc \n",
            "key(13,25) ::  jtmymb \n",
            "key(14,1) ::  hrkwkz \n",
            "key(14,3) ::  fpiuix \n",
            "key(14,5) ::  dngsgv \n",
            "key(14,9) ::  zjcocr \n",
            "key(14,11) ::  xhamap \n",
            "key(14,13) ::  vfykyn \n",
            "key(14,15) ::  tdwiwl \n",
            "key(14,17) ::  rbuguj \n",
            "key(14,19) ::  pzsesh \n",
            "key(14,23) ::  lvoaod \n",
            "key(14,25) ::  jtmymb \n",
            "key(15,1) ::  xpsyst \n",
            "key(15,2) ::  qilrlm \n",
            "key(15,4) ::  cuxdxy \n",
            "key(15,7) ::  hzcicd \n",
            "key(15,8) ::  asvbvw \n",
            "key(15,11) ::  fxagab \n",
            "key(15,13) ::  rjmsmn \n",
            "key(15,14) ::  kcflfg \n",
            "key(15,16) ::  worxrs \n",
            "key(15,17) ::  phkqkl \n",
            "key(15,19) ::  btwcwx \n",
            "key(15,22) ::  gybhbc \n",
            "key(15,23) ::  zruauv \n",
            "key(16,1) ::  hrkwkz \n",
            "key(16,3) ::  fpiuix \n",
            "key(16,5) ::  dngsgv \n",
            "key(16,7) ::  bleqet \n",
            "key(16,9) ::  zjcocr \n",
            "key(16,11) ::  xhamap \n",
            "key(16,13) ::  vfykyn \n",
            "key(16,15) ::  tdwiwl \n",
            "key(16,17) ::  rbuguj \n",
            "key(16,19) ::  pzsesh \n",
            "key(16,21) ::  nxqcqf \n",
            "key(16,23) ::  lvoaod \n",
            "key(16,25) ::  jtmymb \n",
            "key(17,1) ::  fbwmwd \n",
            "key(17,2) ::  iezpzg \n",
            "key(17,3) ::  lhcscj \n",
            "key(17,4) ::  okfvfm \n",
            "key(17,5) ::  rniyip \n",
            "key(17,6) ::  uqlbls \n",
            "key(17,7) ::  xtoeov \n",
            "key(17,8) ::  awrhry \n",
            "key(17,9) ::  dzukub \n",
            "key(17,10) ::  gcxnxe \n",
            "key(17,11) ::  jfaqah \n",
            "key(17,12) ::  midtdk \n",
            "key(17,13) ::  plgwgn \n",
            "key(17,14) ::  sojzjq \n",
            "key(17,15) ::  vrmcmt \n",
            "key(17,16) ::  yupfpw \n",
            "key(17,18) ::  eavlvc \n",
            "key(17,19) ::  hdyoyf \n",
            "key(17,20) ::  kgbrbi \n",
            "key(17,21) ::  njeuel \n",
            "key(17,22) ::  qmhxho \n",
            "key(17,23) ::  tpkakr \n",
            "key(17,24) ::  wsndnu \n",
            "key(17,25) ::  zvqgqx \n",
            "key(18,1) ::  hrkwkz \n",
            "key(18,5) ::  dngsgv \n",
            "key(18,7) ::  bleqet \n",
            "key(18,11) ::  xhamap \n",
            "key(18,13) ::  vfykyn \n",
            "key(18,17) ::  rbuguj \n",
            "key(18,19) ::  pzsesh \n",
            "key(18,23) ::  lvoaod \n",
            "key(18,25) ::  jtmymb \n",
            "key(19,1) ::  zfgigp \n",
            "key(19,2) ::  ouvxve \n",
            "key(19,3) ::  djkmkt \n",
            "key(19,4) ::  syzbzi \n",
            "key(19,5) ::  hnoqox \n",
            "key(19,6) ::  wcdfdm \n",
            "key(19,7) ::  lrsusb \n",
            "key(19,8) ::  aghjhq \n",
            "key(19,9) ::  pvwywf \n",
            "key(19,10) ::  eklnlu \n",
            "key(19,11) ::  tzacaj \n",
            "key(19,12) ::  ioprpy \n",
            "key(19,13) ::  xdegen \n",
            "key(19,14) ::  mstvtc \n",
            "key(19,15) ::  bhikir \n",
            "key(19,16) ::  qwxzxg \n",
            "key(19,17) ::  flmomv \n",
            "key(19,18) ::  uabdbk \n",
            "key(19,20) ::  yefhfo \n",
            "key(19,21) ::  ntuwud \n",
            "key(19,22) ::  cijljs \n",
            "key(19,23) ::  rxyayh \n",
            "key(19,24) ::  gmnpnw \n",
            "key(19,25) ::  vbcecl \n",
            "key(20,1) ::  hrkwkz \n",
            "key(20,3) ::  fpiuix \n",
            "key(20,7) ::  bleqet \n",
            "key(20,9) ::  zjcocr \n",
            "key(20,11) ::  xhamap \n",
            "key(20,13) ::  vfykyn \n",
            "key(20,17) ::  rbuguj \n",
            "key(20,19) ::  pzsesh \n",
            "key(20,21) ::  nxqcqf \n",
            "key(20,23) ::  lvoaod \n",
            "key(21,1) ::  jhygyv \n",
            "key(21,2) ::  ectbtq \n",
            "key(21,4) ::  usjrjg \n",
            "key(21,5) ::  pnemeb \n",
            "key(21,8) ::  aypxpm \n",
            "key(21,10) ::  qofnfc \n",
            "key(21,11) ::  ljaiax \n",
            "key(21,13) ::  bzqyqn \n",
            "key(21,16) ::  mkbjby \n",
            "key(21,17) ::  hfwewt \n",
            "key(21,19) ::  xvmumj \n",
            "key(21,20) ::  sqhphe \n",
            "key(21,22) ::  igxfxu \n",
            "key(21,23) ::  dbsasp \n",
            "key(21,25) ::  triqif \n",
            "key(22,1) ::  hrkwkz \n",
            "key(22,3) ::  fpiuix \n",
            "key(22,5) ::  dngsgv \n",
            "key(22,7) ::  bleqet \n",
            "key(22,9) ::  zjcocr \n",
            "key(22,13) ::  vfykyn \n",
            "key(22,15) ::  tdwiwl \n",
            "key(22,17) ::  rbuguj \n",
            "key(22,19) ::  pzsesh \n",
            "key(22,21) ::  nxqcqf \n",
            "key(22,23) ::  lvoaod \n",
            "key(22,25) ::  jtmymb \n",
            "key(23,1) ::  pdokoj \n",
            "key(23,2) ::  ymxtxs \n",
            "key(23,3) ::  hvgcgb \n",
            "key(23,4) ::  qeplpk \n",
            "key(23,5) ::  znyuyt \n",
            "key(23,6) ::  iwhdhc \n",
            "key(23,7) ::  rfqmql \n",
            "key(23,8) ::  aozvzu \n",
            "key(23,9) ::  jxieid \n",
            "key(23,10) ::  sgrnrm \n",
            "key(23,11) ::  bpawav \n",
            "key(23,12) ::  kyjfje \n",
            "key(23,13) ::  thsosn \n",
            "key(23,14) ::  cqbxbw \n",
            "key(23,15) ::  lzkgkf \n",
            "key(23,16) ::  uitpto \n",
            "key(23,17) ::  drcycx \n",
            "key(23,18) ::  malhlg \n",
            "key(23,19) ::  vjuqup \n",
            "key(23,20) ::  esdzdy \n",
            "key(23,21) ::  nbmimh \n",
            "key(23,22) ::  wkvrvq \n",
            "key(23,24) ::  ocnjni \n",
            "key(23,25) ::  xlwswr \n",
            "key(24,1) ::  hrkwkz \n",
            "key(24,5) ::  dngsgv \n",
            "key(24,7) ::  bleqet \n",
            "key(24,11) ::  xhamap \n",
            "key(24,13) ::  vfykyn \n",
            "key(24,17) ::  rbuguj \n",
            "key(24,19) ::  pzsesh \n",
            "key(24,23) ::  lvoaod \n",
            "key(24,25) ::  jtmymb \n",
            "key(25,1) ::  tjqeqb \n",
            "key(25,2) ::  ukrfrc \n",
            "key(25,3) ::  vlsgsd \n",
            "key(25,4) ::  wmthte \n",
            "key(25,6) ::  yovjvg \n",
            "key(25,7) ::  zpwkwh \n",
            "key(25,8) ::  aqxlxi \n",
            "key(25,9) ::  brymyj \n",
            "key(25,11) ::  dtaoal \n",
            "key(25,12) ::  eubpbm \n",
            "key(25,13) ::  fvcqcn \n",
            "key(25,14) ::  gwdrdo \n",
            "key(25,16) ::  iyftfq \n",
            "key(25,17) ::  jzgugr \n",
            "key(25,18) ::  kahvhs \n",
            "key(25,19) ::  lbiwit \n",
            "key(25,21) ::  ndkykv \n",
            "key(25,22) ::  oelzlw \n",
            "key(25,23) ::  pfmamx \n",
            "key(25,24) ::  qgnbny \n",
            "\n",
            " Key has found:- keys(5,11)\n"
          ]
        }
      ],
      "source": [
        "def gcd(a, b):\n",
        "    if a == 0 :\n",
        "        return b\n",
        "    return gcd(b%a, a)\n",
        "\n",
        "def modInverse(a, m) :\n",
        "    a = a % m;\n",
        "    for x in range(1, m) :\n",
        "        if ((a * x) % m == 1) :\n",
        "            return x\n",
        "    return 1\n",
        "\n",
        "print(\"Cipher text is:\",cipher_text)\n",
        "my_keys = []\n",
        "print(\"Hacked Keys might be:(See at the end,found key)\")\n",
        "for a in range(1,26,1):\n",
        "    for b in range(26):\n",
        "        if gcd(a,b)==1:\n",
        "            temp = ''\n",
        "\n",
        "            a_inv = modInverse(a,26)\n",
        "            for ch in cipher_text:\n",
        "                if ch in alphabets:\n",
        "                    num = (alphabets.find(ch) - b ) *  a_inv     # Pi = [(Ci – b) * a^(-1) ] mod 26\n",
        "                    num = num % 26\n",
        "                    if num < 0:\n",
        "                        num = num + 26\n",
        "                    temp = temp + alphabets[num]\n",
        "                else:\n",
        "                    temp = temp + ch\n",
        "            if temp == plain_text:  #when predicted text is same as Plain text, keys has found.\n",
        "                my_keys = [a,b]\n",
        "            print(\"key(%d,%d) ::  %s \" %(a,b,temp))\n",
        "\n",
        "print(\"\\n Key has found:- keys(%d,%d)\"% (my_keys[0],my_keys[1]))"
      ]
    },
    {
      "cell_type": "code",
      "execution_count": null,
      "id": "ee240e9a",
      "metadata": {
        "id": "ee240e9a"
      },
      "outputs": [],
      "source": []
    },
    {
      "cell_type": "markdown",
      "id": "6db0e811",
      "metadata": {
        "id": "6db0e811"
      },
      "source": [
        "## Transposition Cipher"
      ]
    },
    {
      "cell_type": "code",
      "execution_count": null,
      "id": "c3734d36",
      "metadata": {
        "id": "c3734d36",
        "outputId": "a523aa6b-4389-4cde-d853-29ecb830f5f3"
      },
      "outputs": [
        {
          "name": "stdout",
          "output_type": "stream",
          "text": [
            "Enter the message: prasad\n",
            "Encrypted Message: rda_pas_\n",
            "Decryped Message: prasad\n"
          ]
        }
      ],
      "source": [
        "import math\n",
        "\n",
        "key = \"HACK\"\n",
        "\n",
        "def encryptMessage(msg):\n",
        "    cipher = \"\"\n",
        "    k_indx = 0\n",
        "\n",
        "    msg_len = float(len(msg))\n",
        "    msg_lst = list(msg)\n",
        "    key_lst = sorted(list(key))\n",
        "\n",
        "    col = len(key)\n",
        "    row = int(math.ceil(msg_len / col))\n",
        "    fill_null = int((row * col) - msg_len)\n",
        "    msg_lst.extend('_' * fill_null)\n",
        "    matrix = [msg_lst[i: i + col]\n",
        "              for i in range(0, len(msg_lst), col)]\n",
        "\n",
        "    for _ in range(col):\n",
        "        curr_idx = key.index(key_lst[k_indx])\n",
        "        cipher += ''.join([row[curr_idx]\n",
        "                          for row in matrix])\n",
        "        k_indx += 1\n",
        "\n",
        "    return cipher\n",
        "\n",
        "def decryptMessage(cipher):\n",
        "    msg = \"\"\n",
        "    k_indx = 0\n",
        "\n",
        "    msg_indx = 0\n",
        "    msg_len = float(len(cipher))\n",
        "    msg_lst = list(cipher)\n",
        "\n",
        "    col = len(key)\n",
        "\n",
        "    row = int(math.ceil(msg_len / col))\n",
        "\n",
        "    key_lst = sorted(list(key))\n",
        "\n",
        "    dec_cipher = []\n",
        "    for _ in range(row):\n",
        "        dec_cipher += [[None] * col]\n",
        "\n",
        "    for _ in range(col):\n",
        "        curr_idx = key.index(key_lst[k_indx])\n",
        "\n",
        "        for j in range(row):\n",
        "            dec_cipher[j][curr_idx] = msg_lst[msg_indx]\n",
        "            msg_indx += 1\n",
        "        k_indx += 1\n",
        "\n",
        "    try:\n",
        "        msg = ''.join(sum(dec_cipher, []))\n",
        "    except TypeError:\n",
        "        raise TypeError(\"This program cannot\",\n",
        "                        \"handle repeating words.\")\n",
        "\n",
        "    null_count = msg.count('_')\n",
        "\n",
        "    if null_count > 0:\n",
        "        return msg[: -null_count]\n",
        "\n",
        "    return msg\n",
        "\n",
        "msg = input(\"Enter the message: \")\n",
        "\n",
        "cipher = encryptMessage(msg)\n",
        "print(\"Encrypted Message: {}\".\n",
        "               format(cipher))\n",
        "\n",
        "print(\"Decryped Message: {}\".\n",
        "       format(decryptMessage(cipher)))\n",
        ""
      ]
    },
    {
      "cell_type": "code",
      "execution_count": null,
      "id": "b8969a77",
      "metadata": {
        "id": "b8969a77"
      },
      "outputs": [],
      "source": []
    },
    {
      "cell_type": "markdown",
      "id": "f561b9cb",
      "metadata": {
        "id": "f561b9cb"
      },
      "source": [
        "## RC4"
      ]
    },
    {
      "cell_type": "code",
      "execution_count": null,
      "id": "c127f6c7",
      "metadata": {
        "id": "c127f6c7",
        "outputId": "d86f7bd1-ad22-4738-de21-63639d9d3615"
      },
      "outputs": [
        {
          "name": "stdout",
          "output_type": "stream",
          "text": [
            "Enter Key Size: 10\n",
            "Enter Message Size:10\n"
          ]
        }
      ],
      "source": [
        "n = int(input(\"Enter Key Size: \"))\n",
        "m = int(input(\"Enter Message Size:\"))\n",
        "v = [0]*256\n",
        "st = [0]*m\n",
        "s = [0]*256\n",
        "t = [0]*m\n",
        "e = [0]*m\n",
        "g = [0]*m"
      ]
    },
    {
      "cell_type": "code",
      "execution_count": null,
      "id": "17987226",
      "metadata": {
        "id": "17987226",
        "outputId": "67203af2-e4b1-4310-c1db-fb406d652ef0"
      },
      "outputs": [
        {
          "name": "stdout",
          "output_type": "stream",
          "text": [
            "Enter the key values:\n",
            "9\n",
            "10\n",
            "2\n",
            "90\n",
            "56\n",
            "90\n",
            "80\n",
            "45\n",
            "99\n",
            "10\n"
          ]
        }
      ],
      "source": [
        "print(\"Enter the key values:\")\n",
        "for i in range(0,n):\n",
        "    v[i] = int(input())"
      ]
    },
    {
      "cell_type": "code",
      "execution_count": null,
      "id": "84ec8de1",
      "metadata": {
        "id": "84ec8de1"
      },
      "outputs": [],
      "source": [
        "for i in range(n,256,n):\n",
        "    v[i:i+n] = v[0:n]"
      ]
    },
    {
      "cell_type": "code",
      "execution_count": null,
      "id": "ae0bad81",
      "metadata": {
        "id": "ae0bad81"
      },
      "outputs": [],
      "source": [
        "del v[256-len(v):]"
      ]
    },
    {
      "cell_type": "code",
      "execution_count": null,
      "id": "71ae7a32",
      "metadata": {
        "id": "71ae7a32",
        "outputId": "28a11cce-aa0e-4314-88b8-c5093fc6cc63"
      },
      "outputs": [
        {
          "name": "stdout",
          "output_type": "stream",
          "text": [
            "Enter the message values:\n",
            "90\n",
            "45\n",
            "23\n",
            "68\n",
            "90\n",
            "16\n",
            "18\n",
            "99\n",
            "10\n",
            "10\n",
            "Encrypted Message: \n",
            "242 87 233 26 183 222 86 32 223 136 \n",
            "Decrypted Message: \n",
            "90 45 23 68 90 16 18 99 10 10 "
          ]
        }
      ],
      "source": [
        "print(\"Enter the message values:\")\n",
        "for i in range(0,m):\n",
        "    st[i] = int(input())\n",
        "\n",
        "for i in range(0,256):\n",
        "    s[i]=i\n",
        "    v[i]=v[i%n]\n",
        "\n",
        "j=0\n",
        "for i in range(0,256):\n",
        "    j = (j+s[i]+v[i])%256\n",
        "    s[i],s[j] = s[j],s[i]\n",
        "\n",
        "j=0\n",
        "i=0\n",
        "z=0\n",
        "for k in range(0,m):\n",
        "    i = (i+1)%256\n",
        "    j = (j+s[i])%256\n",
        "    s[i],s[j] = s[j],s[i]\n",
        "    z = (s[i]+s[j])%256\n",
        "    t[k]=s[z]\n",
        "\n",
        "print(\"Encrypted Message: \")\n",
        "for i in range(0,m):\n",
        "    e[i] = st[i]^t[i]\n",
        "    print(e[i],end=\" \")\n",
        "print()\n",
        "print(\"Decrypted Message: \")\n",
        "for i in range(0,m):\n",
        "    g[i] = e[i]^t[i]\n",
        "    print(g[i],end=\" \")\n",
        ""
      ]
    },
    {
      "cell_type": "markdown",
      "id": "6f6fea33",
      "metadata": {
        "id": "6f6fea33"
      },
      "source": [
        "## DES"
      ]
    },
    {
      "cell_type": "code",
      "execution_count": null,
      "id": "dc519485",
      "metadata": {
        "id": "dc519485"
      },
      "outputs": [],
      "source": [
        "# Table of Position of 64 bits at initial level: Initial Permutation Table\n",
        "initial_perm = [58, 50, 42, 34, 26, 18, 10, 2,\n",
        "                60, 52, 44, 36, 28, 20, 12, 4,\n",
        "                62, 54, 46, 38, 30, 22, 14, 6,\n",
        "                64, 56, 48, 40, 32, 24, 16, 8,\n",
        "                57, 49, 41, 33, 25, 17, 9, 1,\n",
        "                59, 51, 43, 35, 27, 19, 11, 3,\n",
        "                61, 53, 45, 37, 29, 21, 13, 5,\n",
        "                63, 55, 47, 39, 31, 23, 15, 7]\n",
        "\n",
        "# Expansion D-box Table\n",
        "exp_d = [32, 1, 2, 3, 4, 5, 4, 5,\n",
        "         6, 7, 8, 9, 8, 9, 10, 11,\n",
        "         12, 13, 12, 13, 14, 15, 16, 17,\n",
        "         16, 17, 18, 19, 20, 21, 20, 21,\n",
        "         22, 23, 24, 25, 24, 25, 26, 27,\n",
        "         28, 29, 28, 29, 30, 31, 32, 1]\n",
        "\n",
        "# Straight Permutation Table\n",
        "per = [16,  7, 20, 21,\n",
        "       29, 12, 28, 17,\n",
        "       1, 15, 23, 26,\n",
        "       5, 18, 31, 10,\n",
        "       2,  8, 24, 14,\n",
        "       32, 27,  3,  9,\n",
        "       19, 13, 30,  6,\n",
        "       22, 11,  4, 25]\n",
        "\n",
        "# S-box Table\n",
        "sbox = [[[14, 4, 13, 1, 2, 15, 11, 8, 3, 10, 6, 12, 5, 9, 0, 7],\n",
        "         [0, 15, 7, 4, 14, 2, 13, 1, 10, 6, 12, 11, 9, 5, 3, 8],\n",
        "         [4, 1, 14, 8, 13, 6, 2, 11, 15, 12, 9, 7, 3, 10, 5, 0],\n",
        "         [15, 12, 8, 2, 4, 9, 1, 7, 5, 11, 3, 14, 10, 0, 6, 13]],\n",
        "\n",
        "        [[15, 1, 8, 14, 6, 11, 3, 4, 9, 7, 2, 13, 12, 0, 5, 10],\n",
        "         [3, 13, 4, 7, 15, 2, 8, 14, 12, 0, 1, 10, 6, 9, 11, 5],\n",
        "         [0, 14, 7, 11, 10, 4, 13, 1, 5, 8, 12, 6, 9, 3, 2, 15],\n",
        "         [13, 8, 10, 1, 3, 15, 4, 2, 11, 6, 7, 12, 0, 5, 14, 9]],\n",
        "\n",
        "        [[10, 0, 9, 14, 6, 3, 15, 5, 1, 13, 12, 7, 11, 4, 2, 8],\n",
        "         [13, 7, 0, 9, 3, 4, 6, 10, 2, 8, 5, 14, 12, 11, 15, 1],\n",
        "         [13, 6, 4, 9, 8, 15, 3, 0, 11, 1, 2, 12, 5, 10, 14, 7],\n",
        "         [1, 10, 13, 0, 6, 9, 8, 7, 4, 15, 14, 3, 11, 5, 2, 12]],\n",
        "\n",
        "        [[7, 13, 14, 3, 0, 6, 9, 10, 1, 2, 8, 5, 11, 12, 4, 15],\n",
        "         [13, 8, 11, 5, 6, 15, 0, 3, 4, 7, 2, 12, 1, 10, 14, 9],\n",
        "         [10, 6, 9, 0, 12, 11, 7, 13, 15, 1, 3, 14, 5, 2, 8, 4],\n",
        "         [3, 15, 0, 6, 10, 1, 13, 8, 9, 4, 5, 11, 12, 7, 2, 14]],\n",
        "\n",
        "        [[2, 12, 4, 1, 7, 10, 11, 6, 8, 5, 3, 15, 13, 0, 14, 9],\n",
        "         [14, 11, 2, 12, 4, 7, 13, 1, 5, 0, 15, 10, 3, 9, 8, 6],\n",
        "         [4, 2, 1, 11, 10, 13, 7, 8, 15, 9, 12, 5, 6, 3, 0, 14],\n",
        "         [11, 8, 12, 7, 1, 14, 2, 13, 6, 15, 0, 9, 10, 4, 5, 3]],\n",
        "\n",
        "        [[12, 1, 10, 15, 9, 2, 6, 8, 0, 13, 3, 4, 14, 7, 5, 11],\n",
        "         [10, 15, 4, 2, 7, 12, 9, 5, 6, 1, 13, 14, 0, 11, 3, 8],\n",
        "         [9, 14, 15, 5, 2, 8, 12, 3, 7, 0, 4, 10, 1, 13, 11, 6],\n",
        "         [4, 3, 2, 12, 9, 5, 15, 10, 11, 14, 1, 7, 6, 0, 8, 13]],\n",
        "\n",
        "        [[4, 11, 2, 14, 15, 0, 8, 13, 3, 12, 9, 7, 5, 10, 6, 1],\n",
        "         [13, 0, 11, 7, 4, 9, 1, 10, 14, 3, 5, 12, 2, 15, 8, 6],\n",
        "         [1, 4, 11, 13, 12, 3, 7, 14, 10, 15, 6, 8, 0, 5, 9, 2],\n",
        "         [6, 11, 13, 8, 1, 4, 10, 7, 9, 5, 0, 15, 14, 2, 3, 12]],\n",
        "\n",
        "        [[13, 2, 8, 4, 6, 15, 11, 1, 10, 9, 3, 14, 5, 0, 12, 7],\n",
        "         [1, 15, 13, 8, 10, 3, 7, 4, 12, 5, 6, 11, 0, 14, 9, 2],\n",
        "         [7, 11, 4, 1, 9, 12, 14, 2, 0, 6, 10, 13, 15, 3, 5, 8],\n",
        "         [2, 1, 14, 7, 4, 10, 8, 13, 15, 12, 9, 0, 3, 5, 6, 11]]]\n",
        "\n",
        "# Final Permutation Table\n",
        "final_perm = [40, 8, 48, 16, 56, 24, 64, 32,\n",
        "              39, 7, 47, 15, 55, 23, 63, 31,\n",
        "              38, 6, 46, 14, 54, 22, 62, 30,\n",
        "              37, 5, 45, 13, 53, 21, 61, 29,\n",
        "              36, 4, 44, 12, 52, 20, 60, 28,\n",
        "              35, 3, 43, 11, 51, 19, 59, 27,\n",
        "              34, 2, 42, 10, 50, 18, 58, 26,\n",
        "              33, 1, 41, 9, 49, 17, 57, 25]\n",
        "\n",
        "keyp = [57, 49, 41, 33, 25, 17, 9,\n",
        "        1, 58, 50, 42, 34, 26, 18,\n",
        "        10, 2, 59, 51, 43, 35, 27,\n",
        "        19, 11, 3, 60, 52, 44, 36,\n",
        "        63, 55, 47, 39, 31, 23, 15,\n",
        "        7, 62, 54, 46, 38, 30, 22,\n",
        "        14, 6, 61, 53, 45, 37, 29,\n",
        "        21, 13, 5, 28, 20, 12, 4]\n",
        "\n",
        "shift_table = [1, 1, 2, 2,\n",
        "               2, 2, 2, 2,\n",
        "               1, 2, 2, 2,\n",
        "               2, 2, 2, 1]\n",
        "\n",
        "key_comp = [14, 17, 11, 24, 1, 5,\n",
        "            3, 28, 15, 6, 21, 10,\n",
        "            23, 19, 12, 4, 26, 8,\n",
        "            16, 7, 27, 20, 13, 2,\n",
        "            41, 52, 31, 37, 47, 55,\n",
        "            30, 40, 51, 45, 33, 48,\n",
        "            44, 49, 39, 56, 34, 53,\n",
        "            46, 42, 50, 36, 29, 32]"
      ]
    },
    {
      "cell_type": "code",
      "execution_count": null,
      "id": "6481a4c5",
      "metadata": {
        "id": "6481a4c5",
        "outputId": "c61903c4-ed86-4482-c2e3-b4bd9b74827a"
      },
      "outputs": [
        {
          "name": "stdout",
          "output_type": "stream",
          "text": [
            "Encryption\n",
            "After initial permutation 14A7D67818CA18AD\n",
            "Round  1   18CA18AD   5A78E394   194CD072DE8C\n",
            "Round  2   5A78E394   4A1210F6   4568581ABCCE\n",
            "Round  3   4A1210F6   B8089591   06EDA4ACF5B5\n",
            "Round  4   B8089591   236779C2   DA2D032B6EE3\n",
            "Round  5   236779C2   A15A4B87   69A629FEC913\n",
            "Round  6   A15A4B87   2E8F9C65   C1948E87475E\n",
            "Round  7   2E8F9C65   A9FC20A3   708AD2DDB3C0\n",
            "Round  8   A9FC20A3   308BEE97   34F822F0C66D\n",
            "Round  9   308BEE97   10AF9D37   84BB4473DCCC\n",
            "Round  10   10AF9D37   6CA6CB20   02765708B5BF\n",
            "Round  11   6CA6CB20   FF3C485F   6D5560AF7CA5\n",
            "Round  12   FF3C485F   22A5963B   C2C1E96A4BF3\n",
            "Round  13   22A5963B   387CCDAA   99C31397C91F\n",
            "Round  14   387CCDAA   BD2DD2AB   251B8BC717D0\n",
            "Round  15   BD2DD2AB   CF26B472   3330C5D9A36D\n",
            "Round  16   19BA9212   CF26B472   181C5D75C66D\n",
            "Cipher Text :  C0B7A8D05F3A829C\n",
            "Decryption\n",
            "After initial permutation 19BA9212CF26B472\n",
            "Round  1   CF26B472   BD2DD2AB   181C5D75C66D\n",
            "Round  2   BD2DD2AB   387CCDAA   3330C5D9A36D\n",
            "Round  3   387CCDAA   22A5963B   251B8BC717D0\n",
            "Round  4   22A5963B   FF3C485F   99C31397C91F\n",
            "Round  5   FF3C485F   6CA6CB20   C2C1E96A4BF3\n",
            "Round  6   6CA6CB20   10AF9D37   6D5560AF7CA5\n",
            "Round  7   10AF9D37   308BEE97   02765708B5BF\n",
            "Round  8   308BEE97   A9FC20A3   84BB4473DCCC\n",
            "Round  9   A9FC20A3   2E8F9C65   34F822F0C66D\n",
            "Round  10   2E8F9C65   A15A4B87   708AD2DDB3C0\n",
            "Round  11   A15A4B87   236779C2   C1948E87475E\n",
            "Round  12   236779C2   B8089591   69A629FEC913\n",
            "Round  13   B8089591   4A1210F6   DA2D032B6EE3\n",
            "Round  14   4A1210F6   5A78E394   06EDA4ACF5B5\n",
            "Round  15   5A78E394   18CA18AD   4568581ABCCE\n",
            "Round  16   14A7D678   18CA18AD   194CD072DE8C\n",
            "Plain Text :  123456ABCD132536\n"
          ]
        }
      ],
      "source": [
        "def hex2bin(s):\n",
        "    mp = {'0': \"0000\",\n",
        "          '1': \"0001\",\n",
        "          '2': \"0010\",\n",
        "          '3': \"0011\",\n",
        "          '4': \"0100\",\n",
        "          '5': \"0101\",\n",
        "          '6': \"0110\",\n",
        "          '7': \"0111\",\n",
        "          '8': \"1000\",\n",
        "          '9': \"1001\",\n",
        "          'A': \"1010\",\n",
        "          'B': \"1011\",\n",
        "          'C': \"1100\",\n",
        "          'D': \"1101\",\n",
        "          'E': \"1110\",\n",
        "          'F': \"1111\"}\n",
        "    bin = \"\"\n",
        "    for i in range(len(s)):\n",
        "        bin = bin + mp[s[i]]\n",
        "    return bin\n",
        "\n",
        "def bin2hex(s):\n",
        "    mp = {\"0000\": '0',\n",
        "          \"0001\": '1',\n",
        "          \"0010\": '2',\n",
        "          \"0011\": '3',\n",
        "          \"0100\": '4',\n",
        "          \"0101\": '5',\n",
        "          \"0110\": '6',\n",
        "          \"0111\": '7',\n",
        "          \"1000\": '8',\n",
        "          \"1001\": '9',\n",
        "          \"1010\": 'A',\n",
        "          \"1011\": 'B',\n",
        "          \"1100\": 'C',\n",
        "          \"1101\": 'D',\n",
        "          \"1110\": 'E',\n",
        "          \"1111\": 'F'}\n",
        "    hex = \"\"\n",
        "    for i in range(0, len(s), 4):\n",
        "        ch = \"\"\n",
        "        ch = ch + s[i]\n",
        "        ch = ch + s[i + 1]\n",
        "        ch = ch + s[i + 2]\n",
        "        ch = ch + s[i + 3]\n",
        "        hex = hex + mp[ch]\n",
        "\n",
        "    return hex\n",
        "\n",
        "def bin2dec(binary):\n",
        "\n",
        "    binary1 = binary\n",
        "    decimal, i, n = 0, 0, 0\n",
        "    while(binary != 0):\n",
        "        dec = binary % 10\n",
        "        decimal = decimal + dec * pow(2, i)\n",
        "        binary = binary//10\n",
        "        i += 1\n",
        "    return decimal\n",
        "\n",
        "def dec2bin(num):\n",
        "    res = bin(num).replace(\"0b\", \"\")\n",
        "    if(len(res) % 4 != 0):\n",
        "        div = len(res) / 4\n",
        "        div = int(div)\n",
        "        counter = (4 * (div + 1)) - len(res)\n",
        "        for i in range(0, counter):\n",
        "            res = '0' + res\n",
        "    return res\n",
        "\n",
        "def permute(k, arr, n):\n",
        "    permutation = \"\"\n",
        "    for i in range(0, n):\n",
        "        permutation = permutation + k[arr[i] - 1]\n",
        "    return permutation\n",
        "\n",
        "def shift_left(k, nth_shifts):\n",
        "    s = \"\"\n",
        "    for i in range(nth_shifts):\n",
        "        for j in range(1, len(k)):\n",
        "            s = s + k[j]\n",
        "        s = s + k[0]\n",
        "        k = s\n",
        "        s = \"\"\n",
        "    return k\n",
        "\n",
        "def xor(a, b):\n",
        "    ans = \"\"\n",
        "    for i in range(len(a)):\n",
        "        if a[i] == b[i]:\n",
        "            ans = ans + \"0\"\n",
        "        else:\n",
        "            ans = ans + \"1\"\n",
        "    return ans\n",
        "\n",
        "def encrypt(pt, rkb, rk):\n",
        "    pt = hex2bin(pt)\n",
        "\n",
        "    pt = permute(pt, initial_perm, 64)\n",
        "    print(\"After initial permutation\", bin2hex(pt))\n",
        "\n",
        "    left = pt[0:32]\n",
        "    right = pt[32:64]\n",
        "    for i in range(0, 16):\n",
        "        right_expanded = permute(right, exp_d, 48)\n",
        "\n",
        "        xor_x = xor(right_expanded, rkb[i])\n",
        "\n",
        "        sbox_str = \"\"\n",
        "        for j in range(0, 8):\n",
        "            row = bin2dec(int(xor_x[j * 6] + xor_x[j * 6 + 5]))\n",
        "            col = bin2dec(\n",
        "                int(xor_x[j * 6 + 1] + xor_x[j * 6 + 2] + xor_x[j * 6 + 3] + xor_x[j * 6 + 4]))\n",
        "            val = sbox[j][row][col]\n",
        "            sbox_str = sbox_str + dec2bin(val)\n",
        "\n",
        "        sbox_str = permute(sbox_str, per, 32)\n",
        "\n",
        "        result = xor(left, sbox_str)\n",
        "        left = result\n",
        "\n",
        "        if(i != 15):\n",
        "            left, right = right, left\n",
        "        print(\"Round \", i + 1, \" \", bin2hex(left),\n",
        "              \" \", bin2hex(right), \" \", rk[i])\n",
        "\n",
        "    combine = left + right\n",
        "\n",
        "    cipher_text = permute(combine, final_perm, 64)\n",
        "    return cipher_text\n",
        "\n",
        "pt = \"123456ABCD132536\"\n",
        "key = \"AABB09182736CCDD\"\n",
        "\n",
        "key = hex2bin(key)\n",
        "\n",
        "key = permute(key, keyp, 56)\n",
        "\n",
        "left = key[0:28]\n",
        "right = key[28:56]\n",
        "\n",
        "rkb = []\n",
        "rk = []\n",
        "for i in range(0, 16):\n",
        "    left = shift_left(left, shift_table[i])\n",
        "    right = shift_left(right, shift_table[i])\n",
        "\n",
        "    combine_str = left + right\n",
        "\n",
        "    round_key = permute(combine_str, key_comp, 48)\n",
        "\n",
        "    rkb.append(round_key)\n",
        "    rk.append(bin2hex(round_key))\n",
        "\n",
        "print(\"Encryption\")\n",
        "cipher_text = bin2hex(encrypt(pt, rkb, rk))\n",
        "print(\"Cipher Text : \", cipher_text)\n",
        "\n",
        "print(\"Decryption\")\n",
        "rkb_rev = rkb[::-1]\n",
        "rk_rev = rk[::-1]\n",
        "text = bin2hex(encrypt(cipher_text, rkb_rev, rk_rev))\n",
        "print(\"Plain Text : \", text)"
      ]
    },
    {
      "cell_type": "markdown",
      "id": "16f2be56",
      "metadata": {
        "id": "16f2be56"
      },
      "source": [
        "## Triple DES"
      ]
    },
    {
      "cell_type": "code",
      "execution_count": null,
      "id": "047bd496",
      "metadata": {
        "id": "047bd496",
        "outputId": "31a342db-3f11-4e43-8f10-31b8e6518ebc"
      },
      "outputs": [
        {
          "name": "stdout",
          "output_type": "stream",
          "text": [
            "An IV456\n",
            "'\\xbd\\xbe\\xc0\\x00\\xf8\\xbdZ\\x8b\\x054SG\\xea\\xfdEA\\x86'\n",
            "'Hi This is Prasad'\n"
          ]
        }
      ],
      "source": [
        "from Crypto.Cipher import DES3\n",
        "from Crypto import Random\n",
        "key = 'Sixteen byte key'\n",
        "iv = 'An IV456'\n",
        "print(iv)\n",
        "cipher_encrypt = DES3.new(key.encode(\"utf8\"), DES3.MODE_OFB, iv.encode(\"utf8\"))\n",
        "plaintext = 'Hi This is Prasad' #padded with spaces so than len(plaintext) is multiple of 8\n",
        "encrypted_text = cipher_encrypt.encrypt(plaintext.encode(\"utf8\"))\n",
        "sample = str(encrypted_text)\n",
        "print(sample[1:])\n",
        "\n",
        "cipher_decrypt = DES3.new(key.encode(\"utf8\"), DES3.MODE_OFB, iv.encode(\"utf8\")) #you can't reuse an object for encrypting or decrypting other data with the same key.\n",
        "text = cipher_decrypt.decrypt(encrypted_text)\n",
        "text = str(text)\n",
        "print(text[1:])"
      ]
    },
    {
      "cell_type": "code",
      "execution_count": null,
      "id": "6ac03904",
      "metadata": {
        "id": "6ac03904"
      },
      "outputs": [],
      "source": []
    },
    {
      "cell_type": "code",
      "execution_count": null,
      "id": "7f907828",
      "metadata": {
        "id": "7f907828",
        "outputId": "ca1e1ad7-74d3-45ee-abc1-92747648e5c2"
      },
      "outputs": [
        {
          "name": "stdout",
          "output_type": "stream",
          "text": [
            "Encryption\n",
            "After initial permutation 14A7D67818CA18AD\n",
            "Round  1   18CA18AD   5A78E394   194CD072DE8C\n",
            "Round  2   5A78E394   4A1210F6   4568581ABCCE\n",
            "Round  3   4A1210F6   B8089591   06EDA4ACF5B5\n",
            "Round  4   B8089591   236779C2   DA2D032B6EE3\n",
            "Round  5   236779C2   A15A4B87   69A629FEC913\n",
            "Round  6   A15A4B87   2E8F9C65   C1948E87475E\n",
            "Round  7   2E8F9C65   A9FC20A3   708AD2DDB3C0\n",
            "Round  8   A9FC20A3   308BEE97   34F822F0C66D\n",
            "Round  9   308BEE97   10AF9D37   84BB4473DCCC\n",
            "Round  10   10AF9D37   6CA6CB20   02765708B5BF\n",
            "Round  11   6CA6CB20   FF3C485F   6D5560AF7CA5\n",
            "Round  12   FF3C485F   22A5963B   C2C1E96A4BF3\n",
            "Round  13   22A5963B   387CCDAA   99C31397C91F\n",
            "Round  14   387CCDAA   BD2DD2AB   251B8BC717D0\n",
            "Round  15   BD2DD2AB   CF26B472   3330C5D9A36D\n",
            "Round  16   19BA9212   CF26B472   181C5D75C66D\n",
            "After initial permutation 19BA9212CF26B472\n",
            "Round  1   CF26B472   BD2DD2AB   181C5D75C66D\n",
            "Round  2   BD2DD2AB   387CCDAA   3330C5D9A36D\n",
            "Round  3   387CCDAA   22A5963B   251B8BC717D0\n",
            "Round  4   22A5963B   FF3C485F   99C31397C91F\n",
            "Round  5   FF3C485F   6CA6CB20   C2C1E96A4BF3\n",
            "Round  6   6CA6CB20   10AF9D37   6D5560AF7CA5\n",
            "Round  7   10AF9D37   308BEE97   02765708B5BF\n",
            "Round  8   308BEE97   A9FC20A3   84BB4473DCCC\n",
            "Round  9   A9FC20A3   2E8F9C65   34F822F0C66D\n",
            "Round  10   2E8F9C65   A15A4B87   708AD2DDB3C0\n",
            "Round  11   A15A4B87   236779C2   C1948E87475E\n",
            "Round  12   236779C2   B8089591   69A629FEC913\n",
            "Round  13   B8089591   4A1210F6   DA2D032B6EE3\n",
            "Round  14   4A1210F6   5A78E394   06EDA4ACF5B5\n",
            "Round  15   5A78E394   18CA18AD   4568581ABCCE\n",
            "Round  16   14A7D678   18CA18AD   194CD072DE8C\n",
            "After initial permutation 14A7D67818CA18AD\n",
            "Round  1   18CA18AD   5A78E394   194CD072DE8C\n",
            "Round  2   5A78E394   4A1210F6   4568581ABCCE\n",
            "Round  3   4A1210F6   B8089591   06EDA4ACF5B5\n",
            "Round  4   B8089591   236779C2   DA2D032B6EE3\n",
            "Round  5   236779C2   A15A4B87   69A629FEC913\n",
            "Round  6   A15A4B87   2E8F9C65   C1948E87475E\n",
            "Round  7   2E8F9C65   A9FC20A3   708AD2DDB3C0\n",
            "Round  8   A9FC20A3   308BEE97   34F822F0C66D\n",
            "Round  9   308BEE97   10AF9D37   84BB4473DCCC\n",
            "Round  10   10AF9D37   6CA6CB20   02765708B5BF\n",
            "Round  11   6CA6CB20   FF3C485F   6D5560AF7CA5\n",
            "Round  12   FF3C485F   22A5963B   C2C1E96A4BF3\n",
            "Round  13   22A5963B   387CCDAA   99C31397C91F\n",
            "Round  14   387CCDAA   BD2DD2AB   251B8BC717D0\n",
            "Round  15   BD2DD2AB   CF26B472   3330C5D9A36D\n",
            "Round  16   19BA9212   CF26B472   181C5D75C66D\n",
            "Cipher Text :  C0B7A8D05F3A829C\n",
            "Decryption\n",
            "After initial permutation 19BA9212CF26B472\n",
            "Round  1   CF26B472   BD2DD2AB   181C5D75C66D\n",
            "Round  2   BD2DD2AB   387CCDAA   3330C5D9A36D\n",
            "Round  3   387CCDAA   22A5963B   251B8BC717D0\n",
            "Round  4   22A5963B   FF3C485F   99C31397C91F\n",
            "Round  5   FF3C485F   6CA6CB20   C2C1E96A4BF3\n",
            "Round  6   6CA6CB20   10AF9D37   6D5560AF7CA5\n",
            "Round  7   10AF9D37   308BEE97   02765708B5BF\n",
            "Round  8   308BEE97   A9FC20A3   84BB4473DCCC\n",
            "Round  9   A9FC20A3   2E8F9C65   34F822F0C66D\n",
            "Round  10   2E8F9C65   A15A4B87   708AD2DDB3C0\n",
            "Round  11   A15A4B87   236779C2   C1948E87475E\n",
            "Round  12   236779C2   B8089591   69A629FEC913\n",
            "Round  13   B8089591   4A1210F6   DA2D032B6EE3\n",
            "Round  14   4A1210F6   5A78E394   06EDA4ACF5B5\n",
            "Round  15   5A78E394   18CA18AD   4568581ABCCE\n",
            "Round  16   14A7D678   18CA18AD   194CD072DE8C\n",
            "After initial permutation 14A7D67818CA18AD\n",
            "Round  1   18CA18AD   5A78E394   194CD072DE8C\n",
            "Round  2   5A78E394   4A1210F6   4568581ABCCE\n",
            "Round  3   4A1210F6   B8089591   06EDA4ACF5B5\n",
            "Round  4   B8089591   236779C2   DA2D032B6EE3\n",
            "Round  5   236779C2   A15A4B87   69A629FEC913\n",
            "Round  6   A15A4B87   2E8F9C65   C1948E87475E\n",
            "Round  7   2E8F9C65   A9FC20A3   708AD2DDB3C0\n",
            "Round  8   A9FC20A3   308BEE97   34F822F0C66D\n",
            "Round  9   308BEE97   10AF9D37   84BB4473DCCC\n",
            "Round  10   10AF9D37   6CA6CB20   02765708B5BF\n",
            "Round  11   6CA6CB20   FF3C485F   6D5560AF7CA5\n",
            "Round  12   FF3C485F   22A5963B   C2C1E96A4BF3\n",
            "Round  13   22A5963B   387CCDAA   99C31397C91F\n",
            "Round  14   387CCDAA   BD2DD2AB   251B8BC717D0\n",
            "Round  15   BD2DD2AB   CF26B472   3330C5D9A36D\n",
            "Round  16   19BA9212   CF26B472   181C5D75C66D\n",
            "After initial permutation 19BA9212CF26B472\n",
            "Round  1   CF26B472   BD2DD2AB   181C5D75C66D\n",
            "Round  2   BD2DD2AB   387CCDAA   3330C5D9A36D\n",
            "Round  3   387CCDAA   22A5963B   251B8BC717D0\n",
            "Round  4   22A5963B   FF3C485F   99C31397C91F\n",
            "Round  5   FF3C485F   6CA6CB20   C2C1E96A4BF3\n",
            "Round  6   6CA6CB20   10AF9D37   6D5560AF7CA5\n",
            "Round  7   10AF9D37   308BEE97   02765708B5BF\n",
            "Round  8   308BEE97   A9FC20A3   84BB4473DCCC\n",
            "Round  9   A9FC20A3   2E8F9C65   34F822F0C66D\n",
            "Round  10   2E8F9C65   A15A4B87   708AD2DDB3C0\n",
            "Round  11   A15A4B87   236779C2   C1948E87475E\n",
            "Round  12   236779C2   B8089591   69A629FEC913\n",
            "Round  13   B8089591   4A1210F6   DA2D032B6EE3\n",
            "Round  14   4A1210F6   5A78E394   06EDA4ACF5B5\n",
            "Round  15   5A78E394   18CA18AD   4568581ABCCE\n",
            "Round  16   14A7D678   18CA18AD   194CD072DE8C\n",
            "Plain Text :  123456ABCD132536\n"
          ]
        }
      ],
      "source": [
        "def hex2bin(s):\n",
        "    mp = {'0': \"0000\",\n",
        "          '1': \"0001\",\n",
        "          '2': \"0010\",\n",
        "          '3': \"0011\",\n",
        "          '4': \"0100\",\n",
        "          '5': \"0101\",\n",
        "          '6': \"0110\",\n",
        "          '7': \"0111\",\n",
        "          '8': \"1000\",\n",
        "          '9': \"1001\",\n",
        "          'A': \"1010\",\n",
        "          'B': \"1011\",\n",
        "          'C': \"1100\",\n",
        "          'D': \"1101\",\n",
        "          'E': \"1110\",\n",
        "          'F': \"1111\"}\n",
        "    bin = \"\"\n",
        "    for i in range(len(s)):\n",
        "        bin = bin + mp[s[i]]\n",
        "    return bin\n",
        "\n",
        "def bin2hex(s):\n",
        "    mp = {\"0000\": '0',\n",
        "          \"0001\": '1',\n",
        "          \"0010\": '2',\n",
        "          \"0011\": '3',\n",
        "          \"0100\": '4',\n",
        "          \"0101\": '5',\n",
        "          \"0110\": '6',\n",
        "          \"0111\": '7',\n",
        "          \"1000\": '8',\n",
        "          \"1001\": '9',\n",
        "          \"1010\": 'A',\n",
        "          \"1011\": 'B',\n",
        "          \"1100\": 'C',\n",
        "          \"1101\": 'D',\n",
        "          \"1110\": 'E',\n",
        "          \"1111\": 'F'}\n",
        "    hex = \"\"\n",
        "    for i in range(0, len(s), 4):\n",
        "        ch = \"\"\n",
        "        ch = ch + s[i]\n",
        "        ch = ch + s[i + 1]\n",
        "        ch = ch + s[i + 2]\n",
        "        ch = ch + s[i + 3]\n",
        "        hex = hex + mp[ch]\n",
        "\n",
        "    return hex\n",
        "\n",
        "def bin2dec(binary):\n",
        "\n",
        "    binary1 = binary\n",
        "    decimal, i, n = 0, 0, 0\n",
        "    while(binary != 0):\n",
        "        dec = binary % 10\n",
        "        decimal = decimal + dec * pow(2, i)\n",
        "        binary = binary//10\n",
        "        i += 1\n",
        "    return decimal\n",
        "\n",
        "def dec2bin(num):\n",
        "    res = bin(num).replace(\"0b\", \"\")\n",
        "    if(len(res) % 4 != 0):\n",
        "        div = len(res) / 4\n",
        "        div = int(div)\n",
        "        counter = (4 * (div + 1)) - len(res)\n",
        "        for i in range(0, counter):\n",
        "            res = '0' + res\n",
        "    return res\n",
        "\n",
        "def permute(k, arr, n):\n",
        "    permutation = \"\"\n",
        "    for i in range(0, n):\n",
        "        permutation = permutation + k[arr[i] - 1]\n",
        "    return permutation\n",
        "\n",
        "def shift_left(k, nth_shifts):\n",
        "    s = \"\"\n",
        "    for i in range(nth_shifts):\n",
        "        for j in range(1, len(k)):\n",
        "            s = s + k[j]\n",
        "        s = s + k[0]\n",
        "        k = s\n",
        "        s = \"\"\n",
        "    return k\n",
        "\n",
        "def xor(a, b):\n",
        "    ans = \"\"\n",
        "    for i in range(len(a)):\n",
        "        if a[i] == b[i]:\n",
        "            ans = ans + \"0\"\n",
        "        else:\n",
        "            ans = ans + \"1\"\n",
        "    return ans\n",
        "\n",
        "def encrypt(pt, rkb, rk):\n",
        "    pt = hex2bin(pt)\n",
        "\n",
        "    pt = permute(pt, initial_perm, 64)\n",
        "    print(\"After initial permutation\", bin2hex(pt))\n",
        "\n",
        "    left = pt[0:32]\n",
        "    right = pt[32:64]\n",
        "    for i in range(0, 16):\n",
        "        right_expanded = permute(right, exp_d, 48)\n",
        "\n",
        "        xor_x = xor(right_expanded, rkb[i])\n",
        "\n",
        "        sbox_str = \"\"\n",
        "        for j in range(0, 8):\n",
        "            row = bin2dec(int(xor_x[j * 6] + xor_x[j * 6 + 5]))\n",
        "            col = bin2dec(\n",
        "                int(xor_x[j * 6 + 1] + xor_x[j * 6 + 2] + xor_x[j * 6 + 3] + xor_x[j * 6 + 4]))\n",
        "            val = sbox[j][row][col]\n",
        "            sbox_str = sbox_str + dec2bin(val)\n",
        "\n",
        "        sbox_str = permute(sbox_str, per, 32)\n",
        "\n",
        "        result = xor(left, sbox_str)\n",
        "        left = result\n",
        "\n",
        "        if(i != 15):\n",
        "            left, right = right, left\n",
        "        print(\"Round \", i + 1, \" \", bin2hex(left),\n",
        "              \" \", bin2hex(right), \" \", rk[i])\n",
        "\n",
        "    combine = left + right\n",
        "\n",
        "    cipher_text = permute(combine, final_perm, 64)\n",
        "    return cipher_text\n",
        "\n",
        "pt = \"123456ABCD132536\"\n",
        "key = \"AABB09182736CCDD\"\n",
        "\n",
        "key = hex2bin(key)\n",
        "\n",
        "key = permute(key, keyp, 56)\n",
        "\n",
        "left = key[0:28]\n",
        "right = key[28:56]\n",
        "\n",
        "rkb = []\n",
        "rk = []\n",
        "for i in range(0, 16):\n",
        "    left = shift_left(left, shift_table[i])\n",
        "    right = shift_left(right, shift_table[i])\n",
        "\n",
        "    combine_str = left + right\n",
        "\n",
        "    round_key = permute(combine_str, key_comp, 48)\n",
        "\n",
        "    rkb.append(round_key)\n",
        "    rk.append(bin2hex(round_key))\n",
        "\n",
        "rkb_rev = rkb[::-1]\n",
        "rk_rev = rk[::-1]\n",
        "print(\"Encryption\")\n",
        "cipher_text_1 = bin2hex(encrypt(pt, rkb, rk))\n",
        "cipher_text_2 = bin2hex(encrypt(cipher_text_1,rkb_rev, rk_rev))\n",
        "cipher_text_3 = bin2hex(encrypt(cipher_text_2, rkb, rk))\n",
        "\n",
        "print(\"Cipher Text : \", cipher_text_3)\n",
        "\n",
        "print(\"Decryption\")\n",
        "\n",
        "text_1 = bin2hex(encrypt(cipher_text_3, rkb_rev, rk_rev))\n",
        "text_2 = bin2hex(encrypt(text_1, rkb, rk))\n",
        "text_3 = bin2hex(encrypt(text_2, rkb_rev, rk_rev))\n",
        "print(\"Plain Text : \", text_3)"
      ]
    },
    {
      "cell_type": "markdown",
      "id": "bbbed05d",
      "metadata": {
        "id": "bbbed05d"
      },
      "source": [
        "## AES"
      ]
    },
    {
      "cell_type": "code",
      "execution_count": null,
      "id": "e1632f18",
      "metadata": {
        "id": "e1632f18"
      },
      "outputs": [],
      "source": [
        "import hashlib\n",
        "from Crypto import Random\n",
        "from Crypto.Cipher import AES\n",
        "from base64 import b64encode, b64decode\n",
        "\n",
        "class AESCipher(object):\n",
        "    def __init__(self, key):\n",
        "        self.block_size = AES.block_size\n",
        "        self.key = hashlib.sha256(key.encode()).digest()\n",
        "\n",
        "    def encrypt(self, plain_text):\n",
        "        plain_text = self.__pad(plain_text)\n",
        "        iv = Random.new().read(self.block_size)\n",
        "        cipher = AES.new(self.key, AES.MODE_CBC, iv)\n",
        "        encrypted_text = cipher.encrypt(plain_text.encode())\n",
        "        return b64encode(iv + encrypted_text).decode(\"utf-8\")\n",
        "\n",
        "    def decrypt(self, encrypted_text):\n",
        "        encrypted_text = b64decode(encrypted_text)\n",
        "        iv = encrypted_text[:self.block_size]\n",
        "        cipher = AES.new(self.key, AES.MODE_CBC, iv)\n",
        "        plain_text = cipher.decrypt(encrypted_text[self.block_size:]).decode(\"utf-8\")\n",
        "        return self.__unpad(plain_text)\n",
        "\n",
        "    def __pad(self, plain_text):\n",
        "        number_of_bytes_to_pad = self.block_size - len(plain_text) % self.block_size\n",
        "        ascii_string = chr(number_of_bytes_to_pad)\n",
        "        padding_str = number_of_bytes_to_pad * ascii_string\n",
        "        padded_plain_text = plain_text + padding_str\n",
        "        return padded_plain_text\n",
        "\n",
        "    @staticmethod\n",
        "    def __unpad(plain_text):\n",
        "        last_character = plain_text[len(plain_text) - 1:]\n",
        "        return plain_text[:-ord(last_character)]"
      ]
    },
    {
      "cell_type": "code",
      "execution_count": null,
      "id": "91d1b29a",
      "metadata": {
        "id": "91d1b29a"
      },
      "outputs": [],
      "source": [
        "c = AESCipher(\"cryptography\")"
      ]
    },
    {
      "cell_type": "code",
      "execution_count": null,
      "id": "ab438b4c",
      "metadata": {
        "id": "ab438b4c",
        "outputId": "d3bfd8b9-9340-43dc-882c-1de1e14d287b"
      },
      "outputs": [
        {
          "data": {
            "text/plain": [
              "'vHWrUfca41drvCAYpKNmuLP6UfKzK63xyNesFO5Z1Lc='"
            ]
          },
          "execution_count": 46,
          "metadata": {},
          "output_type": "execute_result"
        }
      ],
      "source": [
        "c.encrypt('hello')"
      ]
    },
    {
      "cell_type": "code",
      "execution_count": null,
      "id": "87c52145",
      "metadata": {
        "id": "87c52145",
        "outputId": "9a7ff3ad-7860-4855-8e5c-ff89c40860f5"
      },
      "outputs": [
        {
          "data": {
            "text/plain": [
              "'hello'"
            ]
          },
          "execution_count": 48,
          "metadata": {},
          "output_type": "execute_result"
        }
      ],
      "source": [
        "c.decrypt('vHWrUfca41drvCAYpKNmuLP6UfKzK63xyNesFO5Z1Lc=')"
      ]
    },
    {
      "cell_type": "code",
      "execution_count": null,
      "id": "4dfa2970",
      "metadata": {
        "id": "4dfa2970"
      },
      "outputs": [],
      "source": []
    },
    {
      "cell_type": "markdown",
      "id": "0c158eda",
      "metadata": {
        "id": "0c158eda"
      },
      "source": [
        "## Hellman Key Exchange protocol"
      ]
    },
    {
      "cell_type": "code",
      "execution_count": null,
      "id": "b4605c91",
      "metadata": {
        "id": "b4605c91",
        "outputId": "b374407a-84e8-4dc6-cc55-493257a8640e"
      },
      "outputs": [
        {
          "name": "stdout",
          "output_type": "stream",
          "text": [
            "Enter the Public Key for Person 1 : 23\n",
            "Enter the Public Key for Person 2 : 9\n",
            "Enter the Private Key for Person 1 : 4\n",
            "Enter the Private Key for Person 2 : 3\n",
            "Secret key for the Person 1 is : 9\n",
            "Secret Key for the Person 2 is : 9\n"
          ]
        }
      ],
      "source": [
        "def Generate_Cipher(a,b,c):\n",
        "\n",
        "    n = int(pow(a,b,c))\n",
        "\n",
        "    return n\n",
        "\n",
        "\n",
        "if __name__ == '__main__':\n",
        "\n",
        "    PublicKey_1 = int(input(\"Enter the Public Key for Person 1 : \"))\n",
        "\n",
        "    PublicKey_2 = int(input(\"Enter the Public Key for Person 2 : \"))\n",
        "\n",
        "    PrivateKey_1 = int(input(\"Enter the Private Key for Person 1 : \"))\n",
        "\n",
        "    PrivateKey_2 = int(input(\"Enter the Private Key for Person 2 : \"))\n",
        "\n",
        "\n",
        "    Cipher_1 = Generate_Cipher(PublicKey_2,PrivateKey_1,PublicKey_1)\n",
        "\n",
        "    Cipher_2 = Generate_Cipher(PublicKey_2,PrivateKey_2,PublicKey_1)\n",
        "\n",
        "\n",
        "    SecretKey_1 = Generate_Cipher(Cipher_2,PrivateKey_1,PublicKey_1)\n",
        "\n",
        "    SecretKey_2 = Generate_Cipher(Cipher_1,PrivateKey_2,PublicKey_1)\n",
        "\n",
        "    print('Secret key for the Person 1 is : %d'%(SecretKey_1))\n",
        "    print('Secret Key for the Person 2 is : %d'%(SecretKey_2))\n"
      ]
    },
    {
      "cell_type": "markdown",
      "id": "6141e5a3",
      "metadata": {
        "id": "6141e5a3"
      },
      "source": [
        "## Elgamal"
      ]
    },
    {
      "cell_type": "code",
      "execution_count": null,
      "id": "2c61be31",
      "metadata": {
        "id": "2c61be31"
      },
      "outputs": [],
      "source": [
        "import random"
      ]
    },
    {
      "cell_type": "code",
      "execution_count": null,
      "id": "6d3370e8",
      "metadata": {
        "id": "6d3370e8"
      },
      "outputs": [],
      "source": [
        "def multiplicative_inverse(a,b):\n",
        "    i=1\n",
        "    while True:\n",
        "        if (a*i)%b == 1:\n",
        "            return i\n",
        "        i+=1"
      ]
    },
    {
      "cell_type": "code",
      "execution_count": null,
      "id": "474e22cd",
      "metadata": {
        "id": "474e22cd",
        "outputId": "1aaa974a-b42c-41f5-c631-630a15a9081a"
      },
      "outputs": [
        {
          "name": "stdout",
          "output_type": "stream",
          "text": [
            "Enter the large prime number :11\n",
            "Enter the decryption key: 3\n",
            "Enter the first encryption key2\n",
            "The second encryption key is :  8\n"
          ]
        }
      ],
      "source": [
        "p = int(input(\"Enter the large prime number :\")) #11\n",
        "d = int(input(\"Enter the decryption key: \")) #3\n",
        "e1 = int(input(\"Enter the first encryption key\")) #2\n",
        "e2 = pow(e1,d)%p\n",
        "print(\"The second encryption key is : \", e2)\n",
        "public_key = [e1,e2,p]\n",
        "prviate_key = d"
      ]
    },
    {
      "cell_type": "code",
      "execution_count": null,
      "id": "17f5e56d",
      "metadata": {
        "id": "17f5e56d",
        "outputId": "d503ed84-5218-4891-be18-08c255b238f9"
      },
      "outputs": [
        {
          "name": "stdout",
          "output_type": "stream",
          "text": [
            "The encryption process is: \n",
            "The cipher text 1 is :  5\n",
            "The cipher text 2 is :  6\n"
          ]
        }
      ],
      "source": [
        "print(\"The encryption process is: \")\n",
        "R = 4\n",
        "C1 = pow(e1,R)%p\n",
        "print(\"The cipher text 1 is : \", C1)\n",
        "PT = 7\n",
        "C2 = (PT*pow(e2,R))%p\n",
        "print(\"The cipher text 2 is : \", C2)"
      ]
    },
    {
      "cell_type": "code",
      "execution_count": null,
      "id": "47119377",
      "metadata": {
        "id": "47119377",
        "outputId": "3365e598-899b-490e-a5fb-8853148e57a5"
      },
      "outputs": [
        {
          "name": "stdout",
          "output_type": "stream",
          "text": [
            "The decryption process is: \n",
            "7\n"
          ]
        }
      ],
      "source": [
        "print(\"The decryption process is: \")\n",
        "temp = multiplicative_inverse(pow(C1,d),p)\n",
        "decrypt = (C2*temp)%11\n",
        "print(decrypt)"
      ]
    },
    {
      "cell_type": "code",
      "execution_count": null,
      "id": "eebec227",
      "metadata": {
        "id": "eebec227"
      },
      "outputs": [],
      "source": []
    },
    {
      "cell_type": "markdown",
      "id": "d6b19d7d",
      "metadata": {
        "id": "d6b19d7d"
      },
      "source": [
        "## Elliptic Curve Cryptography"
      ]
    },
    {
      "cell_type": "code",
      "execution_count": null,
      "id": "8f2218db",
      "metadata": {
        "id": "8f2218db",
        "outputId": "59aedbb7-820f-4d3f-92fa-405143726221"
      },
      "outputs": [
        {
          "name": "stdout",
          "output_type": "stream",
          "text": [
            "----------------------\n",
            "Key Generation: \n",
            "public key:  (55775710101220993732426324084720463238764275304959435848398467291881142023329, 21199072587798542730431481060028589108213610632521921943670565543183307411346)\n"
          ]
        }
      ],
      "source": [
        "# Python program to implement\n",
        "# ECDSA\n",
        "p = pow(2, 255) - 19\n",
        "\n",
        "base = 15112221349535400772501151409588531511454012693041857206046113283949847762202, 46316835694926478169428394003475163141307993866256225615783033603165251855960\n",
        "\n",
        "# Function for finding positive modulus\n",
        "# of the number\n",
        "def findPositiveModulus(a, p):\n",
        "    if a < 0:\n",
        "        a = (a + p * int(abs(a)/p) + p) % p\n",
        "    return a\n",
        "\n",
        "# Function for typecasting from\n",
        "# string to int\n",
        "def textToInt(text):\n",
        "    encoded_text = text.encode('utf-8')\n",
        "    hex_text = encoded_text.hex()\n",
        "    int_text = int(hex_text, 16)\n",
        "    return int_text\n",
        "\n",
        "# Function to find greatest\n",
        "# common divisor(gcd) of a and b\n",
        "def gcd(a, b):\n",
        "    while a != 0:\n",
        "        a, b = b % a, a\n",
        "    return b\n",
        "\n",
        "# Function to find the modular inverse\n",
        "# of a mod m\n",
        "def findModInverse(a, m):\n",
        "    if a < 0:\n",
        "        a = (a + m * int(abs(a)/m) + m) % m\n",
        "\n",
        "    # no mod inverse if a & m aren't\n",
        "    # relatively prime\n",
        "    if gcd(a, m) != 1:\n",
        "        return None\n",
        "\n",
        "    # Calculate using the Extended\n",
        "    # Euclidean Algorithm:\n",
        "    u1, u2, u3 = 1, 0, a\n",
        "    v1, v2, v3 = 0, 1, m\n",
        "    while v3 != 0:\n",
        "        # // is the integer division operator\n",
        "        q = u3 // v3\n",
        "        v1, v2, v3, u1, u2, u3 = (u1 - q * v1), (u2 - q * v2), (u3 - q * v3), v1, v2, v3\n",
        "    return u1 % m\n",
        "\n",
        "def applyDoubleAndAddMethod(P, k, a, d, mod):\n",
        "\n",
        "    additionPoint = (P[0], P[1])\n",
        "\n",
        "    # 0b1111111001\n",
        "    kAsBinary = bin(k)\n",
        "\n",
        "    # 1111111001\n",
        "    kAsBinary = kAsBinary[2:len(kAsBinary)]\n",
        "    # print(kAsBinary)\n",
        "\n",
        "    for i in range(1, len(kAsBinary)):\n",
        "        currentBit = kAsBinary[i: i+1]\n",
        "\n",
        "        # always apply doubling\n",
        "        additionPoint = pointAddition(additionPoint, additionPoint, a, d, mod)\n",
        "\n",
        "        if currentBit == '1':\n",
        "\n",
        "            # add base point\n",
        "            additionPoint = pointAddition(additionPoint, P, a, d, mod)\n",
        "\n",
        "    return additionPoint\n",
        "\n",
        "# Function to calculate the point addition\n",
        "def pointAddition(P, Q, a, d, mod):\n",
        "    x1 = P[0]; y1 = P[1]\n",
        "    x2 = Q[0]; y2 = Q[1]\n",
        "\n",
        "    x3 = (((x1*y2 + y1*x2) % mod) * findModInverse(1+d*x1*x2*y1*y2, mod)) % mod\n",
        "    y3 = (((y1*y2 - a*x1*x2) % mod) * findModInverse(1- d*x1*x2*y1*y2, mod)) % mod\n",
        "\n",
        "    return x3, y3\n",
        "\n",
        "# ax^2 + y^2 = 1 + dx^2y^2\n",
        "# ed25519\n",
        "a = -1; d = findPositiveModulus(-121665 * findModInverse(121666, p), p)\n",
        "\n",
        "# print(\"curve: \",a,\"x^2 + y^2 = 1 + \",d,\"x^2 y^2\")\n",
        "x0 = base[0]; y0 = base[1]\n",
        "\n",
        "print(\"----------------------\")\n",
        "print(\"Key Generation: \")\n",
        "\n",
        "# privateKey = 47379675103498394144858916095175689\n",
        "# 779086087640336534911165206022228115974270 #32 byte secret key\n",
        "import random\n",
        "privateKey = random.getrandbits(256) #32 byte secret key\n",
        "\n",
        "# print(\"private key: \",privateKey)\n",
        "publicKey = applyDoubleAndAddMethod(base, privateKey, a, d, p)\n",
        "print(\"public key: \", publicKey)\n",
        "\n",
        "message = textToInt(\"Hello, world!\")\n",
        "print"
      ]
    },
    {
      "cell_type": "markdown",
      "id": "c4981973",
      "metadata": {
        "id": "c4981973"
      },
      "source": [
        "## ECDSA"
      ]
    },
    {
      "cell_type": "code",
      "execution_count": null,
      "id": "3b0988c7",
      "metadata": {
        "id": "3b0988c7",
        "outputId": "d22b128e-08c9-4ced-8c86-c58d5949185b"
      },
      "outputs": [
        {
          "name": "stdout",
          "output_type": "stream",
          "text": [
            "----------------------\n",
            "Key Generation: \n",
            "public key:  (12611957387396167301310064219209615436118604731643278938520605189341885882905, 44012012048988956863573012304488195968071058549719157634569214276441238375722)\n",
            "----------------------\n",
            "Signing:\n",
            "message:  5735816763073854953388147237921\n",
            "Signature (R, s)\n",
            "R:  (17398582206386920242697161388728121547970811789911961114394435433884805588241, 4477075765930951269674344356261240319783403544001405833534737085436262538822)\n",
            "s:  820739828982716890133383742953407955325459145031958019150394843607006957453696579056040497395041338197408834306942287722812921478428155153005143704378016\n",
            "----------------------\n",
            "Verification:\n",
            "P1:  (19389489728880154589509593621320411809450273201191451621223511943237862238422, 14449599850196571603214516167807282007155103513985732740831923419535066987397)\n",
            "P2:  (19389489728880154589509593621320411809450273201191451621223511943237862238422, 14449599850196571603214516167807282007155103513985732740831923419535066987397)\n",
            "----------------------\n",
            "result\n",
            "The Signature is valid\n"
          ]
        }
      ],
      "source": [
        "# Python program to implement\n",
        "# ECDSA\n",
        "p = pow(2, 255) - 19\n",
        "\n",
        "base = 15112221349535400772501151409588531511454012693041857206046113283949847762202, 46316835694926478169428394003475163141307993866256225615783033603165251855960\n",
        "\n",
        "# Function for finding positive modulus\n",
        "# of the number\n",
        "def findPositiveModulus(a, p):\n",
        "    if a < 0:\n",
        "        a = (a + p * int(abs(a)/p) + p) % p\n",
        "    return a\n",
        "\n",
        "# Function for typecasting from\n",
        "# string to int\n",
        "def textToInt(text):\n",
        "    encoded_text = text.encode('utf-8')\n",
        "    hex_text = encoded_text.hex()\n",
        "    int_text = int(hex_text, 16)\n",
        "    return int_text\n",
        "\n",
        "# Function to find greatest\n",
        "# common divisor(gcd) of a and b\n",
        "def gcd(a, b):\n",
        "    while a != 0:\n",
        "        a, b = b % a, a\n",
        "    return b\n",
        "\n",
        "# Function to find the modular inverse\n",
        "# of a mod m\n",
        "def findModInverse(a, m):\n",
        "    if a < 0:\n",
        "        a = (a + m * int(abs(a)/m) + m) % m\n",
        "\n",
        "    # no mod inverse if a & m aren't\n",
        "    # relatively prime\n",
        "    if gcd(a, m) != 1:\n",
        "        return None\n",
        "\n",
        "    # Calculate using the Extended\n",
        "    # Euclidean Algorithm:\n",
        "    u1, u2, u3 = 1, 0, a\n",
        "    v1, v2, v3 = 0, 1, m\n",
        "    while v3 != 0:\n",
        "        # // is the integer division operator\n",
        "        q = u3 // v3\n",
        "        v1, v2, v3, u1, u2, u3 = (u1 - q * v1), (u2 - q * v2), (u3 - q * v3), v1, v2, v3\n",
        "    return u1 % m\n",
        "\n",
        "def applyDoubleAndAddMethod(P, k, a, d, mod):\n",
        "\n",
        "    additionPoint = (P[0], P[1])\n",
        "\n",
        "    # 0b1111111001\n",
        "    kAsBinary = bin(k)\n",
        "\n",
        "    # 1111111001\n",
        "    kAsBinary = kAsBinary[2:len(kAsBinary)]\n",
        "    # print(kAsBinary)\n",
        "\n",
        "    for i in range(1, len(kAsBinary)):\n",
        "        currentBit = kAsBinary[i: i+1]\n",
        "\n",
        "        # always apply doubling\n",
        "        additionPoint = pointAddition(additionPoint, additionPoint, a, d, mod)\n",
        "\n",
        "        if currentBit == '1':\n",
        "\n",
        "            # add base point\n",
        "            additionPoint = pointAddition(additionPoint, P, a, d, mod)\n",
        "\n",
        "    return additionPoint\n",
        "\n",
        "# Function to calculate the point addition\n",
        "def pointAddition(P, Q, a, d, mod):\n",
        "    x1 = P[0]; y1 = P[1]\n",
        "    x2 = Q[0]; y2 = Q[1]\n",
        "\n",
        "    x3 = (((x1*y2 + y1*x2) % mod) * findModInverse(1+d*x1*x2*y1*y2, mod)) % mod\n",
        "    y3 = (((y1*y2 - a*x1*x2) % mod) * findModInverse(1- d*x1*x2*y1*y2, mod)) % mod\n",
        "\n",
        "    return x3, y3\n",
        "\n",
        "# ax^2 + y^2 = 1 + dx^2y^2\n",
        "# ed25519\n",
        "a = -1; d = findPositiveModulus(-121665 * findModInverse(121666, p), p)\n",
        "\n",
        "# print(\"curve: \",a,\"x^2 + y^2 = 1 + \",d,\"x^2 y^2\")\n",
        "x0 = base[0]; y0 = base[1]\n",
        "\n",
        "print(\"----------------------\")\n",
        "print(\"Key Generation: \")\n",
        "\n",
        "# privateKey = 47379675103498394144858916095175689\n",
        "# 779086087640336534911165206022228115974270 #32 byte secret key\n",
        "import random\n",
        "privateKey = random.getrandbits(256) #32 byte secret key\n",
        "\n",
        "# print(\"private key: \",privateKey)\n",
        "publicKey = applyDoubleAndAddMethod(base, privateKey, a, d, p)\n",
        "print(\"public key: \", publicKey)\n",
        "\n",
        "message = textToInt(\"Hello, world!\")\n",
        "\n",
        "# Function for hashing the message\n",
        "def hashing(message):\n",
        "    import hashlib\n",
        "    return int(hashlib.sha512(str(message).encode(\"utf-8\")).hexdigest(), 16)\n",
        "\n",
        "# ---------------------------------------\n",
        "# sign\n",
        "r = hashing(hashing(message) + message) % p\n",
        "R = applyDoubleAndAddMethod(base, r, a, d, p)\n",
        "\n",
        "h = hashing(R[0] + publicKey[0] + message) % p\n",
        "\n",
        "# % p\n",
        "s = (r + h * privateKey)\n",
        "\n",
        "print(\"----------------------\")\n",
        "print(\"Signing:\")\n",
        "print(\"message: \",message)\n",
        "print(\"Signature (R, s)\")\n",
        "print(\"R: \",R)\n",
        "print(\"s: \",s)\n",
        "\n",
        "\n",
        "# -----------------------------------\n",
        "# verify\n",
        "h = hashing(R[0] + publicKey[0] + message) % p\n",
        "\n",
        "P1 = applyDoubleAndAddMethod(base, s, a, d, p)\n",
        "\n",
        "P2 = pointAddition(R, applyDoubleAndAddMethod(publicKey, h, a, d, p), a, d, p)\n",
        "\n",
        "print(\"----------------------\")\n",
        "print(\"Verification:\")\n",
        "print(\"P1: \",P1)\n",
        "print(\"P2: \",P2)\n",
        "print(\"----------------------\")\n",
        "print(\"result\")\n",
        "if P1[0] == P2[0] and P1[1] == P2[1]:\n",
        "    print(\"The Signature is valid\")\n",
        "else:\n",
        "    print(\"The Signature violation detected!\")\n",
        "# ----------------------------------"
      ]
    },
    {
      "cell_type": "markdown",
      "id": "e2c4e635",
      "metadata": {
        "id": "e2c4e635"
      },
      "source": [
        "## RSA Digital Signature scheme"
      ]
    },
    {
      "cell_type": "code",
      "execution_count": null,
      "id": "83bb8822",
      "metadata": {
        "id": "83bb8822"
      },
      "outputs": [],
      "source": [
        "import random"
      ]
    },
    {
      "cell_type": "code",
      "execution_count": null,
      "id": "787d57f0",
      "metadata": {
        "id": "787d57f0"
      },
      "outputs": [],
      "source": [
        "def gcdcheck(a, b):\n",
        "    if b == 0:\n",
        "        return a\n",
        "    else:\n",
        "        r = a % b\n",
        "        return gcdcheck(b, r)"
      ]
    },
    {
      "cell_type": "code",
      "execution_count": null,
      "id": "40b25700",
      "metadata": {
        "id": "40b25700"
      },
      "outputs": [],
      "source": [
        "def multiplicative_inverse(a,b):\n",
        "    i=1\n",
        "    while True:\n",
        "        if (a*i)%b == 1:\n",
        "            return i\n",
        "        i+=1"
      ]
    },
    {
      "cell_type": "code",
      "execution_count": null,
      "id": "34a66418",
      "metadata": {
        "id": "34a66418",
        "outputId": "23485038-cf3f-44a7-cbcb-a8cd68645ce8"
      },
      "outputs": [
        {
          "name": "stdout",
          "output_type": "stream",
          "text": [
            "Enter the first prime number: 3\n",
            "Enter the second prime number: 11\n"
          ]
        }
      ],
      "source": [
        "p = int(input(\"Enter the first prime number: \"))\n",
        "q = int(input(\"Enter the second prime number: \"))\n",
        "n = p*q\n",
        "PhiN = (p-1)*(q-1)"
      ]
    },
    {
      "cell_type": "code",
      "execution_count": null,
      "id": "9549da5d",
      "metadata": {
        "id": "9549da5d"
      },
      "outputs": [],
      "source": [
        "exchangeKey=0\n",
        "for i in range(2,PhiN):\n",
        "    gcd = gcdcheck(PhiN,i)\n",
        "    if gcd == 1:\n",
        "        exchangeKey=i\n",
        "        break"
      ]
    },
    {
      "cell_type": "code",
      "execution_count": null,
      "id": "28d79538",
      "metadata": {
        "id": "28d79538"
      },
      "outputs": [],
      "source": [
        "d = multiplicative_inverse(exchangeKey,PhiN)"
      ]
    },
    {
      "cell_type": "code",
      "execution_count": null,
      "id": "cf237701",
      "metadata": {
        "id": "cf237701"
      },
      "outputs": [],
      "source": [
        "Public_key = [exchangeKey,PhiN]\n",
        "Private_key = [d,PhiN]"
      ]
    },
    {
      "cell_type": "code",
      "execution_count": null,
      "id": "d80c1b1e",
      "metadata": {
        "id": "d80c1b1e",
        "outputId": "2a901eae-c3f4-44eb-f3c4-130607727ca9"
      },
      "outputs": [
        {
          "name": "stdout",
          "output_type": "stream",
          "text": [
            "Enter the Message: 4\n"
          ]
        }
      ],
      "source": [
        "M_A = int(input(\"Enter the Message: \"))"
      ]
    },
    {
      "cell_type": "code",
      "execution_count": null,
      "id": "8fe49058",
      "metadata": {
        "id": "8fe49058"
      },
      "outputs": [],
      "source": [
        "S = pow(M_A,d)%n"
      ]
    },
    {
      "cell_type": "code",
      "execution_count": null,
      "id": "098bc8a5",
      "metadata": {
        "id": "098bc8a5"
      },
      "outputs": [],
      "source": [
        "M_B = pow(S,exchangeKey)%n"
      ]
    },
    {
      "cell_type": "code",
      "execution_count": null,
      "id": "54d168db",
      "metadata": {
        "id": "54d168db",
        "outputId": "b6b664d9-1c84-4f68-e126-47c448ec1abf"
      },
      "outputs": [
        {
          "name": "stdout",
          "output_type": "stream",
          "text": [
            "Accepted\n"
          ]
        }
      ],
      "source": [
        "if M_A == M_B:\n",
        "    print(\"Accepted\")\n",
        "else:\n",
        "    print(\"Not Accepted\")"
      ]
    },
    {
      "cell_type": "code",
      "execution_count": null,
      "id": "dab0ef5c",
      "metadata": {
        "id": "dab0ef5c",
        "outputId": "e0d2f1b5-589a-4092-d204-5ac76f7f2c37"
      },
      "outputs": [
        {
          "data": {
            "text/plain": [
              "(4, 25)"
            ]
          },
          "execution_count": 93,
          "metadata": {},
          "output_type": "execute_result"
        }
      ],
      "source": [
        "M_A,M_B"
      ]
    },
    {
      "cell_type": "markdown",
      "id": "de7c5617",
      "metadata": {
        "id": "de7c5617"
      },
      "source": [
        "## SHA-1  "
      ]
    },
    {
      "cell_type": "code",
      "execution_count": null,
      "id": "9ca535f9",
      "metadata": {
        "id": "9ca535f9",
        "outputId": "ad9d0ad4-ca9f-42ff-916c-43fa39b2ebee"
      },
      "outputs": [
        {
          "name": "stdout",
          "output_type": "stream",
          "text": [
            "Enter the message :prasad\n",
            "The hexadecimal equivalent of SHA1 is :  d7fbabb3289b145a0f256d6596e2e43e9ecb9986\n"
          ]
        }
      ],
      "source": [
        "import hashlib\n",
        "\n",
        "def SHA1(message):\n",
        "\n",
        "    encoded_msg = hashlib.sha1(message.encode())\n",
        "\n",
        "    result = encoded_msg.hexdigest()\n",
        "\n",
        "    return result\n",
        "if __name__==\"__main__\":\n",
        "\n",
        "    message = input(\"Enter the message :\")\n",
        "\n",
        "    hexadecimal = SHA1(message)\n",
        "\n",
        "    print(\"The hexadecimal equivalent of SHA1 is : \", hexadecimal)"
      ]
    },
    {
      "cell_type": "code",
      "execution_count": null,
      "id": "393db90f",
      "metadata": {
        "id": "393db90f"
      },
      "outputs": [],
      "source": []
    },
    {
      "cell_type": "code",
      "execution_count": null,
      "id": "7ac27fca",
      "metadata": {
        "id": "7ac27fca",
        "outputId": "8d73ca2c-9b5c-41fa-8d2d-d81cece75205"
      },
      "outputs": [
        {
          "name": "stdout",
          "output_type": "stream",
          "text": [
            "d7fbabb3289b145a0f256d6596e2e43e9ecb9986\n"
          ]
        }
      ],
      "source": [
        "def sha1(data):\n",
        "    bytes = \"\"\n",
        "\n",
        "    h0 = 0x67452301\n",
        "    h1 = 0xEFCDAB89\n",
        "    h2 = 0x98BADCFE\n",
        "    h3 = 0x10325476\n",
        "    h4 = 0xC3D2E1F0\n",
        "\n",
        "    for n in range(len(data)):\n",
        "        bytes+='{0:08b}'.format(ord(data[n]))\n",
        "    bits = bytes+\"1\"\n",
        "    pBits = bits\n",
        "    #pad until length equals 448 mod 512\n",
        "    while len(pBits)%512 != 448:\n",
        "        pBits+=\"0\"\n",
        "    #append the original length\n",
        "    pBits+='{0:064b}'.format(len(bits)-1)\n",
        "\n",
        "    def chunks(l, n):\n",
        "        return [l[i:i+n] for i in range(0, len(l), n)]\n",
        "\n",
        "    def rol(n, b):\n",
        "        return ((n << b) | (n >> (32 - b))) & 0xffffffff\n",
        "\n",
        "    for c in chunks(pBits, 512):\n",
        "        words = chunks(c, 32)\n",
        "        w = [0]*80\n",
        "        for n in range(0, 16):\n",
        "            w[n] = int(words[n], 2)\n",
        "        for i in range(16, 80):\n",
        "            w[i] = rol((w[i-3] ^ w[i-8] ^ w[i-14] ^ w[i-16]), 1)\n",
        "\n",
        "        a = h0\n",
        "        b = h1\n",
        "        c = h2\n",
        "        d = h3\n",
        "        e = h4\n",
        "\n",
        "        #Main loop\n",
        "        for i in range(0, 80):\n",
        "            if 0 <= i <= 19:\n",
        "                f = (b & c) | ((~b) & d)\n",
        "                k = 0x5A827999\n",
        "            elif 20 <= i <= 39:\n",
        "                f = b ^ c ^ d\n",
        "                k = 0x6ED9EBA1\n",
        "            elif 40 <= i <= 59:\n",
        "                f = (b & c) | (b & d) | (c & d)\n",
        "                k = 0x8F1BBCDC\n",
        "            elif 60 <= i <= 79:\n",
        "                f = b ^ c ^ d\n",
        "                k = 0xCA62C1D6\n",
        "\n",
        "            temp = rol(a, 5) + f + e + k + w[i] & 0xffffffff\n",
        "            e = d\n",
        "            d = c\n",
        "            c = rol(b, 30)\n",
        "            b = a\n",
        "            a = temp\n",
        "\n",
        "        h0 = h0 + a & 0xffffffff\n",
        "        h1 = h1 + b & 0xffffffff\n",
        "        h2 = h2 + c & 0xffffffff\n",
        "        h3 = h3 + d & 0xffffffff\n",
        "        h4 = h4 + e & 0xffffffff\n",
        "\n",
        "    return '%08x%08x%08x%08x%08x' % (h0, h1, h2, h3, h4)\n",
        "\n",
        "print(sha1(\"prasad\"))"
      ]
    },
    {
      "cell_type": "markdown",
      "id": "01efdfda",
      "metadata": {
        "id": "01efdfda"
      },
      "source": [
        "## Kerberos"
      ]
    },
    {
      "cell_type": "code",
      "execution_count": null,
      "id": "402a31e9",
      "metadata": {
        "id": "402a31e9"
      },
      "outputs": [],
      "source": [
        "## Server"
      ]
    },
    {
      "cell_type": "code",
      "execution_count": null,
      "id": "a37680aa",
      "metadata": {
        "id": "a37680aa"
      },
      "outputs": [],
      "source": [
        "import socket"
      ]
    },
    {
      "cell_type": "code",
      "execution_count": null,
      "id": "7755aeb0",
      "metadata": {
        "id": "7755aeb0",
        "outputId": "2b971741-e97f-41bb-dbd8-a24273394ae0"
      },
      "outputs": [
        {
          "name": "stdout",
          "output_type": "stream",
          "text": [
            "Socket Created\n"
          ]
        }
      ],
      "source": [
        "s = socket.socket()\n",
        "print(\"Socket Created\")"
      ]
    },
    {
      "cell_type": "code",
      "execution_count": null,
      "id": "9f34b291",
      "metadata": {
        "id": "9f34b291"
      },
      "outputs": [],
      "source": [
        "s.bind((\"localhost\",9999))"
      ]
    },
    {
      "cell_type": "code",
      "execution_count": null,
      "id": "dd7a9d2e",
      "metadata": {
        "id": "dd7a9d2e",
        "outputId": "ad6f03d5-4091-4225-a414-c6c81d95f33a"
      },
      "outputs": [
        {
          "name": "stdout",
          "output_type": "stream",
          "text": [
            "Waiting for connections\n"
          ]
        }
      ],
      "source": [
        "s.listen(3)\n",
        "print(\"Waiting for connections\")"
      ]
    },
    {
      "cell_type": "code",
      "execution_count": null,
      "id": "d0103818",
      "metadata": {
        "id": "d0103818",
        "outputId": "1329c25a-5a52-4b46-82ba-ef80e3a267b7"
      },
      "outputs": [
        {
          "name": "stdout",
          "output_type": "stream",
          "text": [
            "Connected with  ('127.0.0.1', 50316) prasad\n"
          ]
        }
      ],
      "source": [
        "while True:\n",
        "    c, addr = s.accept()\n",
        "    name = c.recv(1024).decode()\n",
        "    print(\"Connected with \", addr, name )\n",
        "\n",
        "    c.send(bytes(\"Hi This is Prasad\",\"utf-8\"))\n",
        "    c.close()"
      ]
    },
    {
      "cell_type": "code",
      "execution_count": null,
      "id": "d56b2336",
      "metadata": {
        "id": "d56b2336"
      },
      "outputs": [],
      "source": []
    },
    {
      "cell_type": "code",
      "execution_count": null,
      "id": "be83bea3",
      "metadata": {
        "id": "be83bea3"
      },
      "outputs": [],
      "source": [
        "##Client"
      ]
    },
    {
      "cell_type": "code",
      "execution_count": null,
      "id": "3e6f6d1d",
      "metadata": {
        "id": "3e6f6d1d"
      },
      "outputs": [],
      "source": [
        "import socket"
      ]
    },
    {
      "cell_type": "code",
      "execution_count": null,
      "id": "8faab050",
      "metadata": {
        "id": "8faab050"
      },
      "outputs": [],
      "source": [
        "c = socket.socket()"
      ]
    },
    {
      "cell_type": "code",
      "execution_count": null,
      "id": "09da75f4",
      "metadata": {
        "id": "09da75f4"
      },
      "outputs": [],
      "source": [
        "c.connect(('localhost',9999))"
      ]
    },
    {
      "cell_type": "code",
      "execution_count": null,
      "id": "f62bcaf2",
      "metadata": {
        "id": "f62bcaf2",
        "outputId": "b2438706-6477-462f-fea2-17a5478a35c5"
      },
      "outputs": [
        {
          "name": "stdout",
          "output_type": "stream",
          "text": [
            "Enter the name prasad\n",
            "Hi This is Prasad\n"
          ]
        }
      ],
      "source": [
        "name = input(\"Enter the name \")\n",
        "\n",
        "c.send(bytes(name,\"utf-8\"))\n",
        "\n",
        "print(c.recv(1024).decode())"
      ]
    },
    {
      "cell_type": "markdown",
      "id": "5f3b0a4b",
      "metadata": {
        "id": "5f3b0a4b"
      },
      "source": [
        "## Communication system"
      ]
    },
    {
      "cell_type": "code",
      "execution_count": null,
      "id": "724d0f2a",
      "metadata": {
        "id": "724d0f2a"
      },
      "outputs": [],
      "source": [
        "v1 = [0,2,3,3,0,4,4,5,0]\n",
        "v2 = [0,-1,-1,1,0,-1,1,1,0]"
      ]
    },
    {
      "cell_type": "code",
      "execution_count": null,
      "id": "53784eba",
      "metadata": {
        "id": "53784eba",
        "outputId": "5f4cd2d5-bb9d-40bd-e97a-03691534e13d"
      },
      "outputs": [
        {
          "name": "stdout",
          "output_type": "stream",
          "text": [
            "Enter your user id: 0\n",
            "Enter the receiver id: 1\n",
            "Enter the plain textPRASAD\n",
            "Cipher Text:  RTCUCF\n",
            "Text at user id:  PRASAD\n",
            "Text at user id:  NPYQYB\n",
            "Press q for exit or c for continue\n",
            "q\n"
          ]
        }
      ],
      "source": [
        "while True:\n",
        "    a = int(input(\"Enter your user id: \"))\n",
        "    b = int(input(\"Enter the receiver id: \"))\n",
        "    k=0\n",
        "    if a==1:\n",
        "        k=3\n",
        "    if a==2:\n",
        "        k=6\n",
        "    s = input(\"Enter the plain text\")\n",
        "    z=''\n",
        "    y=''\n",
        "    for i in range(0,len(s)):\n",
        "        z+=chr((((ord(s[i])-65)+v1[k+b])%26)+65)\n",
        "    print(\"Cipher Text: \",z)\n",
        "    for i in range(3):\n",
        "        j=i\n",
        "        if i==1:\n",
        "            j=3\n",
        "        if i==2:\n",
        "            j=6\n",
        "        if i!=a:\n",
        "            if i==b:\n",
        "                print(\"Text at user id: \",s)\n",
        "            else:\n",
        "                for i in range(0,len(s)):\n",
        "                    y+=chr((((ord(z[i])-65)-v1[j+a]+26)%26)+65)\n",
        "                print(\"Text at user id: \",y)\n",
        "\n",
        "    print(\"Press q for exit or c for continue\")\n",
        "    q = input()\n",
        "    if q=='q':\n",
        "        break"
      ]
    },
    {
      "cell_type": "code",
      "execution_count": null,
      "id": "22574f95",
      "metadata": {
        "id": "22574f95"
      },
      "outputs": [],
      "source": []
    }
  ],
  "metadata": {
    "kernelspec": {
      "display_name": "Python 3 (ipykernel)",
      "language": "python",
      "name": "python3"
    },
    "language_info": {
      "codemirror_mode": {
        "name": "ipython",
        "version": 3
      },
      "file_extension": ".py",
      "mimetype": "text/x-python",
      "name": "python",
      "nbconvert_exporter": "python",
      "pygments_lexer": "ipython3",
      "version": "3.9.6"
    },
    "colab": {
      "provenance": []
    }
  },
  "nbformat": 4,
  "nbformat_minor": 5
}